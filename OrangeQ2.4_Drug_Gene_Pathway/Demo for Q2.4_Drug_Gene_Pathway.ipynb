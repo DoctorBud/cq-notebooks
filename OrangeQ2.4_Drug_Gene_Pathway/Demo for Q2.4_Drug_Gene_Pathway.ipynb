{
 "cells": [
  {
   "cell_type": "markdown",
   "metadata": {},
   "source": [
    "# Query"
   ]
  },
  {
   "cell_type": "markdown",
   "metadata": {},
   "source": [
    "What genes and pathways are uniquely targeted by HSCT conditioning drugs that are well- vs poorly- tolerated by FA patients?"
   ]
  },
  {
   "cell_type": "markdown",
   "metadata": {},
   "source": [
    "# Workflow"
   ]
  },
  {
   "cell_type": "markdown",
   "metadata": {},
   "source": [
    "**Input**: [Two HSCT conditioning drug sets: (1) well-tolerated by FA patients (Set1d); (2) poorly-tolerated by FA patients (Set2d)](#input)\n",
    "\n",
    "**Step 1.** [Retrieve proteins targeted by set of well-tolerated HSCT conditioning drugs --> Set1p](#step1)\n",
    "\n",
    "**Step 2.** [Retrieve proteins targeted by set of poorly-tolerated HSCT conditioning drugs --> Set2p](#step2)\n",
    "\n",
    "**Step 3.** [Retrieve genes encoding proteins in Set1p vs Set2p --> Set1g, Set2g](#step3)\n",
    "\n",
    "**Step 4.** [Retrieve pathways associated with genes in Set1g vs Set2g --> Set1pw, Set2pw](#step4)\n",
    "\n",
    "**Step 5.** [Retreive other genes involved in pathways in Set1pw vs Set2pw --> Set1g', Set2g'](#step5)\n",
    "\n",
    "**Step 6.** [Execute set comparison analysis to return the set of genes that is uniquely targetd by poorly tolerated drugs (i.e. effected directly or indirectly by poorly tolerated drugs, but not affected by well-tolerated drugs)](#step6)\n",
    "\n",
    "**Output**: Set of genes that may be uniquely targeted by pre-conditioning drugs that are poorly tolerated by FA patients."
   ]
  },
  {
   "cell_type": "markdown",
   "metadata": {},
   "source": [
    "# Required packages"
   ]
  },
  {
   "cell_type": "markdown",
   "metadata": {},
   "source": [
    "1. [**biothings_client**](https://pypi.python.org/pypi/biothings-client) (pip install biothings_client)\n",
    "2. [**biothings_explorer**](https://pypi.python.org/pypi/biothings-explorer/0.1.0) (pip install biothings_explorer)\n",
    "\n",
    "\n",
    "**biothings_explorer** Python package is designed based on JSON-LD, and could be utilized to connect information from different biological entities, e.g. drug-protein-gene-pathway. Currently, it integrates API resource from MyGene.info, MyVariant.info, Drug and Compound API, etc.\n",
    "\n",
    "**biothings_client** Python packageis an easy-to-use Python wrapper to access any Biothings.api-based backend service"
   ]
  },
  {
   "cell_type": "markdown",
   "metadata": {},
   "source": [
    "# Demo\n"
   ]
  },
  {
   "cell_type": "markdown",
   "metadata": {},
   "source": [
    "<a id='input'></a>\n",
    "**Input**: Two HSCT conditioning drug sets: (1) well-tolerated by FA patients (Set1d); (2) poorly-tolerated by FA patients (Set2d)"
   ]
  },
  {
   "cell_type": "code",
   "execution_count": 1,
   "metadata": {
    "collapsed": true
   },
   "outputs": [],
   "source": [
    "'''\n",
    "Assume well-tolerated drugs: Fludarabine, Carmustine\n",
    "Assume poorly-tolerated drugs: Etoposide, Tacrolimus\n",
    "'''\n",
    "drug_set1 = ['Fludarabine', 'Carmustine']\n",
    "drug_set2 = ['Etoposide', 'Tacrolimus']"
   ]
  },
  {
   "cell_type": "code",
   "execution_count": 2,
   "metadata": {
    "collapsed": true
   },
   "outputs": [],
   "source": [
    "'''\n",
    "load biothings_client and biothings_explorer\n",
    "'''\n",
    "from biothings_client import get_client\n",
    "from biothings_explorer import IdListHandler\n",
    "md = get_client('drug')\n",
    "ih = IdListHandler()"
   ]
  },
  {
   "cell_type": "code",
   "execution_count": 4,
   "metadata": {
    "collapsed": false
   },
   "outputs": [
    {
     "name": "stdout",
     "output_type": "stream",
     "text": [
      "querying 1-2...done.\n",
      "Finished.\n",
      "Drugbank ID list for Set1: ['DB01073', 'DB00262']\n",
      "querying 1-2...done.\n",
      "Finished.\n",
      "Drugbank ID list for Set2: ['DB00773', 'DB00864']\n"
     ]
    }
   ],
   "source": [
    "'''\n",
    "Transform drug name to drugbank ID using biothings_client python package\n",
    "'''\n",
    "results_drug_set1 = md.querymany(drug_set1, scopes='drugbank.name', fields='drugbank.accession_number')\n",
    "set1d = [_record['drugbank']['accession_number'] for _record in results_drug_set1]\n",
    "print('Drugbank ID list for Set1: {}'.format(set1d))\n",
    "results_drug_set2 = md.querymany(drug_set2, scopes='drugbank.name', fields='drugbank.accession_number')\n",
    "set2d = [_record['drugbank']['accession_number'] for _record in results_drug_set2]\n",
    "print('Drugbank ID list for Set2: {}'.format(set2d))"
   ]
  },
  {
   "cell_type": "markdown",
   "metadata": {},
   "source": [
    "<a id='step1'></a>\n",
    "**Step 1**. Retrieve proteins (*uniprot_id*) targeted by set of well-tolerated HSCT conditioning drugs --> Set1p"
   ]
  },
  {
   "cell_type": "code",
   "execution_count": 5,
   "metadata": {
    "collapsed": false
   },
   "outputs": [
    {
     "name": "stdout",
     "output_type": "stream",
     "text": [
      "Protein Uniprot IDs related to Drugs in Drug Set 1 is: ['P09884', 'P27707', 'P23921', 'P00390']\n"
     ]
    }
   ],
   "source": [
    "'''\n",
    "Use IdListHandler to retrieve a list of Uniprot_IDs correponding to Drugbank_IDs for Drug Set 1\n",
    "'''\n",
    "set1p = ih.list_handler(input_id_list=set1d, input_type='drugbank_id', output_type='uniprot_id', relation='oban:is_Target_of')\n",
    "print('Protein Uniprot IDs related to Drugs in Drug Set 1 is: {}'.format(set1p))"
   ]
  },
  {
   "cell_type": "markdown",
   "metadata": {},
   "source": [
    "<a id='step2'></a>\n",
    "**Step 2.** Retrieve proteins targeted by set of well-tolerated HSCT conditioning drugs --> Set2p"
   ]
  },
  {
   "cell_type": "code",
   "execution_count": 6,
   "metadata": {
    "collapsed": false
   },
   "outputs": [
    {
     "name": "stdout",
     "output_type": "stream",
     "text": [
      "Protein Uniprot IDs related to Drugs in Drug Set 2 is: ['Q02880', 'P11388', 'P62942']\n"
     ]
    }
   ],
   "source": [
    "'''\n",
    "Use IdListHandler to retrieve a list of Uniprot_IDs correponding to Drugbank_IDs for Drug Set 2\n",
    "'''\n",
    "set2p = ih.list_handler(input_id_list=set2d, input_type='drugbank_id', output_type='uniprot_id', relation='oban:is_Target_of')\n",
    "print('Protein Uniprot IDs related to Drugs in Drug Set 2 is: {}'.format(set2p))"
   ]
  },
  {
   "cell_type": "markdown",
   "metadata": {},
   "source": [
    "<a id='step3'></a>\n",
    "**Step 3**. Retrieve genes encoding proteins in Set1p vs Set2p --> Set1g, Set2g"
   ]
  },
  {
   "cell_type": "code",
   "execution_count": 7,
   "metadata": {
    "collapsed": false
   },
   "outputs": [
    {
     "name": "stdout",
     "output_type": "stream",
     "text": [
      "['uniprot.Swiss-Prot']\n",
      "uniprot.Swiss-Prot:P09884\n",
      "Fetching 1 gene(s) . . .\n",
      "Number of IDs from mygene.info related to this query uniprot.Swiss-Prot:P09884 is : 1\n",
      "['uniprot.Swiss-Prot']\n",
      "uniprot.Swiss-Prot:P27707\n",
      "Fetching 1 gene(s) . . .\n",
      "Number of IDs from mygene.info related to this query uniprot.Swiss-Prot:P27707 is : 1\n",
      "['uniprot.Swiss-Prot']\n",
      "uniprot.Swiss-Prot:P23921\n",
      "Fetching 1 gene(s) . . .\n",
      "Number of IDs from mygene.info related to this query uniprot.Swiss-Prot:P23921 is : 1\n",
      "['uniprot.Swiss-Prot']\n",
      "uniprot.Swiss-Prot:P00390\n",
      "Fetching 1 gene(s) . . .\n",
      "Number of IDs from mygene.info related to this query uniprot.Swiss-Prot:P00390 is : 1\n",
      "Entrez Gene IDs related to Drugs in Drug Set 1 is: ['1633', '2936', '5422', '6240']\n"
     ]
    }
   ],
   "source": [
    "'''\n",
    "Use IdListHandler to retrieve a list of Entrez_Gene_IDs correponding to Uniprot_IDs for Drug Set 1\n",
    "'''\n",
    "set1g = ih.list_handler(input_id_list=set1p, input_type='uniprot_id', output_type='entrez_gene_id')\n",
    "print('Entrez Gene IDs related to Drugs in Drug Set 1 is: {}'.format(set1g))"
   ]
  },
  {
   "cell_type": "code",
   "execution_count": 8,
   "metadata": {
    "collapsed": false
   },
   "outputs": [
    {
     "name": "stdout",
     "output_type": "stream",
     "text": [
      "['uniprot.Swiss-Prot']\n",
      "uniprot.Swiss-Prot:Q02880\n",
      "Fetching 1 gene(s) . . .\n",
      "Number of IDs from mygene.info related to this query uniprot.Swiss-Prot:Q02880 is : 1\n",
      "['uniprot.Swiss-Prot']\n",
      "uniprot.Swiss-Prot:P11388\n",
      "Fetching 1 gene(s) . . .\n",
      "Number of IDs from mygene.info related to this query uniprot.Swiss-Prot:P11388 is : 1\n",
      "['uniprot.Swiss-Prot']\n",
      "uniprot.Swiss-Prot:P62942\n",
      "Fetching 1 gene(s) . . .\n",
      "Number of IDs from mygene.info related to this query uniprot.Swiss-Prot:P62942 is : 1\n",
      "Entrez Gene IDs related to Drugs in Drug Set 1 is: ['7155', '2280', '7153']\n"
     ]
    }
   ],
   "source": [
    "'''\n",
    "Use IdListHandler to retrieve a list of Entrez_Gene_IDs correponding to Uniprot_IDs for Drug Set 1\n",
    "'''\n",
    "set2g = ih.list_handler(input_id_list=set2p, input_type='uniprot_id', output_type='entrez_gene_id')\n",
    "print('Entrez Gene IDs related to Drugs in Drug Set 1 is: {}'.format(set2g))"
   ]
  },
  {
   "cell_type": "markdown",
   "metadata": {},
   "source": [
    "<a id='step4'></a>\n",
    "**Step 4.** Retrieve pathways associated with genes in Set1g vs Set2g --> Set1pw, Set2pw"
   ]
  },
  {
   "cell_type": "code",
   "execution_count": 9,
   "metadata": {
    "collapsed": false
   },
   "outputs": [
    {
     "name": "stdout",
     "output_type": "stream",
     "text": [
      "Wikipathway IDs related to Drugs in Drug Set 1 is: ['WP408', 'WP100', 'WP1601', 'WP466', 'WP2884', 'WP15', 'WP3940', 'WP2446', 'WP3925', 'WP2882', 'WP692', 'WP404', 'WP702', 'WP2377']\n"
     ]
    }
   ],
   "source": [
    "'''\n",
    "Use IdListHandler to retrieve a list of Wikipathway_IDs correponding to Entrez_Gene_IDs for Drug Set 1\n",
    "'''\n",
    "set1pw = ih.list_handler(input_id_list=set1g, input_type='entrez_gene_id', output_type='wikipathway_id')\n",
    "print('Wikipathway IDs related to Drugs in Drug Set 1 is: {}'.format(set1pw))"
   ]
  },
  {
   "cell_type": "code",
   "execution_count": 10,
   "metadata": {
    "collapsed": false
   },
   "outputs": [
    {
     "name": "stdout",
     "output_type": "stream",
     "text": [
      "Wikipathway IDs related to Drugs in Drug Set 2 is: ['WP2363', 'WP536', 'WP2446', 'WP1471', 'WP2431', 'WP2361', 'WP560', 'WP2377']\n"
     ]
    }
   ],
   "source": [
    "'''\n",
    "Use IdListHandler to retrieve a list of Wikipathway_IDs correponding to Entrez_Gene_IDs for Drug Set 2\n",
    "'''\n",
    "set2pw = ih.list_handler(input_id_list=set2g, input_type='entrez_gene_id', output_type='wikipathway_id')\n",
    "print('Wikipathway IDs related to Drugs in Drug Set 2 is: {}'.format(set2pw))"
   ]
  },
  {
   "cell_type": "markdown",
   "metadata": {},
   "source": [
    "<a id='step5'></a>\n",
    "**Step 5.** Retreive other genes involved in pathways in Set1pw vs Set2pw --> Set1g', Set2g'"
   ]
  },
  {
   "cell_type": "code",
   "execution_count": 11,
   "metadata": {
    "collapsed": false
   },
   "outputs": [
    {
     "name": "stdout",
     "output_type": "stream",
     "text": [
      "['pathway.wikipathways.id']\n",
      "pathway.wikipathways.id:WP408\n",
      "Fetching 30 gene(s) . . .\n",
      "Number of IDs from mygene.info related to this query pathway.wikipathways.id:WP408 is : 30\n",
      "['pathway.wikipathways.id']\n",
      "pathway.wikipathways.id:WP100\n",
      "Fetching 20 gene(s) . . .\n",
      "Number of IDs from mygene.info related to this query pathway.wikipathways.id:WP100 is : 20\n",
      "['pathway.wikipathways.id']\n",
      "pathway.wikipathways.id:WP1601\n",
      "Fetching 34 gene(s) . . .\n",
      "Number of IDs from mygene.info related to this query pathway.wikipathways.id:WP1601 is : 34\n",
      "['pathway.wikipathways.id']\n",
      "pathway.wikipathways.id:WP466\n",
      "Fetching 42 gene(s) . . .\n",
      "Number of IDs from mygene.info related to this query pathway.wikipathways.id:WP466 is : 42\n",
      "['pathway.wikipathways.id']\n",
      "pathway.wikipathways.id:WP2884\n",
      "Fetching 142 gene(s) . . .\n",
      "Number of IDs from mygene.info related to this query pathway.wikipathways.id:WP2884 is : 142\n",
      "['pathway.wikipathways.id']\n",
      "pathway.wikipathways.id:WP15\n",
      "Fetching 83 gene(s) . . .\n",
      "Number of IDs from mygene.info related to this query pathway.wikipathways.id:WP15 is : 83\n",
      "['pathway.wikipathways.id']\n",
      "pathway.wikipathways.id:WP3940\n",
      "Fetching 49 gene(s) . . .\n",
      "Number of IDs from mygene.info related to this query pathway.wikipathways.id:WP3940 is : 49\n",
      "['pathway.wikipathways.id']\n",
      "pathway.wikipathways.id:WP2446\n",
      "Fetching 89 gene(s) . . .\n",
      "Number of IDs from mygene.info related to this query pathway.wikipathways.id:WP2446 is : 89\n",
      "['pathway.wikipathways.id']\n",
      "pathway.wikipathways.id:WP3925\n",
      "Fetching 91 gene(s) . . .\n",
      "Number of IDs from mygene.info related to this query pathway.wikipathways.id:WP3925 is : 91\n",
      "['pathway.wikipathways.id']\n",
      "pathway.wikipathways.id:WP2882\n",
      "Fetching 316 gene(s) . . .\n",
      "Number of IDs from mygene.info related to this query pathway.wikipathways.id:WP2882 is : 316\n",
      "['pathway.wikipathways.id']\n",
      "pathway.wikipathways.id:WP692\n",
      "Fetching 17 gene(s) . . .\n",
      "Number of IDs from mygene.info related to this query pathway.wikipathways.id:WP692 is : 17\n",
      "['pathway.wikipathways.id']\n",
      "pathway.wikipathways.id:WP404\n",
      "Fetching 19 gene(s) . . .\n",
      "Number of IDs from mygene.info related to this query pathway.wikipathways.id:WP404 is : 19\n",
      "['pathway.wikipathways.id']\n",
      "pathway.wikipathways.id:WP702\n",
      "Fetching 177 gene(s) . . .\n",
      "Number of IDs from mygene.info related to this query pathway.wikipathways.id:WP702 is : 177\n",
      "['pathway.wikipathways.id']\n",
      "pathway.wikipathways.id:WP2377\n",
      "Fetching 170 gene(s) . . .\n",
      "Number of IDs from mygene.info related to this query pathway.wikipathways.id:WP2377 is : 170\n",
      "Other Entrez Gene IDs related to Drugs in Drug Set 1 is: ['6118', '3340', '8974', '5917', '9955', '1036', '23594', '1021', '580', '89792', '9792', '949', '5634', '9514', '5743', '7422', '10390', '11283', '4240', '8564', '85465', '6303', '8514', '376497', '8431', '80218', '27063', '2042', '5327', '25800', '6999', '501', '8140', '64090', '247', '4953', '64579', '1743', '1807', '6527', '993', '10249', '5914', '5591', '4216', '890', '5601', '1026', '5166', '5001', '4174', '26151', '9232', '1869', '1551', '54658', '27306', '6534', '10811', '1676', '6364', '2353', '2168', '22977', '207', '25942', '5471', '10797', '26509', '6117', '4609', '4091', '2947', '6288', '9027', '10592', '1401', '5894', '2155', '54716', '10400', '2744', '373156', '211', '9971', '4199', '1559', '213', '6648', '978', '1728', '221393', '81620', '8648', '3172', '1616', '5578', '4908', '28968', '635', '355', '221079', '66035', '2064', '9', '1577', '8772', '144195', '2953', '7124', '7296', '84706', '64241', '3251', '1398', '5154', '27233', '4171', '4259', '8850', '5728', '1589', '1719', '22928', '3065', '29103', '5428', '119391', '122830', '125206', '3417', '2053', '8436', '7367', '6536', '6819', '9420', '8824', '4863', '231', '50515', '1950', '6524', '5375', '55226', '11254', '50507', '23491', '27190', '2512', '30', '57678', '339761', '10599', '5243', '5981', '2260', '4784', '1907', '4837', '5427', '3162', '7166', '5925', '847', '10486', '10057', '874', '2879', '1759', '10062', '1583', '55554', '2184', '10602', '23411', '5058', '121512', '221357', '8030', '5604', '4831', '6594', '10411', '10468', '3569', '27286', '51126', '6526', '8574', '5832', '9953', '10998', '1734', '4051', '6611', '5742', '7040', '260293', '5928', '8454', '5879', '6414', '5970', '5460', '1585', '81706', '2949', '6319', '7046', '5831', '3155', '873', '6532', '2944', '9133', '2937', '5130', '221223', '6535', '216', '8507', '3458', '8554', '4144', '201266', '5350', '2880', '3376', '2931', '1890', '54578', '2495', '596', '117283', '199974', '6523', '4258', '10', '3643', '64240', '79027', '5156', '7298', '3624', '55163', '26873', '9469', '6286', '7186', '155184', '5947', '218', '5465', '6820', '9817', '4357', '120227', '8639', '23743', '3949', '128', '79807', '9821', '5552', '4089', '22949', '1548', '10926', '3562', '151742', '5091', '10560', '116519', '5426', '27173', '51733', '7153', '26275', '159', '9446', '4999', '4052', '6290', '5347', '8529', '7057', '11124', '27232', '5273', '10555', '1553', '160728', '57007', '1622', '4838', '57190', '84951', '2956', '79799', '3084', '6540', '6502', '10549', '3593', '9970', '34', '1584', '842', '1644', '329', '9348', '27113', '6647', '55117', '6342', '581', '348303', '6649', '7042', '1544', '6723', '113612', '3479', '5985', '6908', '472', '6397', '5142', '8802', '5423', '1806', '3033', '10769', '586', '10111', '200895', '25828', '56603', '1027', '4914', '50484', '4172', '4967', '19', '83539', '1588', '2329', '898', '441481', '2147', '10858', '2289', '1120', '5524', '57016', '3320', '2033', '57404', '3303', '51129', '5906', '3034', '140606', '2746', '3845', '2189', '2938', '4173', '3158', '675', '5596', '54566', '1499', '6515', '5244', '5598', '54443', '4176', '81031', '5602', '2058', '79571', '2885', '3039', '57106', '2068', '2752', '2952', '6529', '1836', '55869', '1565', '2678', '57834', '1573', '4998', '1633', '2940', '3554', '637', '6839', '23516', '1593', '23649', '820', '1491', '8243', '7407', '4946', '29986', '7039', '10891', '8836', '1581', '701', '266722', '5931', '5111', '114134', '8856', '1028', '2330', '570', '10720', '2246', '9982', '407026', '6517', '1874', '2805', '6337', '11140', '9049', '56922', '7363', '6530', '2326', '29785', '875', '7150', '5563', '4128', '7295', '2946', '83642', '79690', '7316', '7272', '114112', '4690', '549', '9061', '6822', '442038', '7922', '280636', '4191', '3978', '995', '5265', '345', '11214', '6608', '840', '6898', '1376', '5984', '6799', '335', '2356', '55312', '1582', '440', '3895', '54575', '4097', '1543', '6596', '55829', '58515', '330', '55630', '4661', '127', '79829', '5340', '159963', '7132', '4594', '5705', '841', '1788', '1030', '2729', '90161', '6714', '7311', '290', '60482', '1956', '356', '12', '196', '627', '7001', '6119', '407025', '23583', '6538', '57818', '89795', '7517', '2100', '1562', '5893', '1645', '3015', '54657', '3275', '3375', '2327', '55388', '4524', '64377', '5371', '5558', '54579', '7498', '5308', '6240', '6528', '4485', '5422', '10733', '10864', '5000', '2950', '5997', '9435', '9956', '5599', '1545', '6347', '1594', '6720', '54905', '4501', '54490', '2281', '6817', '151531', '5888', '23764', '6009', '7266', '843', '6996', '3146', '1431', '1786', '5105', '1735', '387509', '6783', '823', '8553', '9965', '100526830', '55501', '6470', '6514', '338', '283375', '896', '23657', '6291', '10841', '8644', '2882', '7049', '7486', '836', '6591', '43', '1017', '91252', '391365', '1757', '1549', '4353', '2539', '5315', '6772', '10164', '4087', '80315', '51734', '8050', '219970', '6774', '1586', '5009', '2308', '7083', '9196', '4791', '5877', '9588', '2939', '54659', '9403', '348932', '10768', '8534', '4143', '1605', '7372', '51714', '51380', '1592', '54577', '64711', '23563', '6554', '7453', '5155', '3337', '6654', '1738', '7054', '51426', '3732', '3630', '84002', '27284', '340665', '6518', '3280', '5055', '2936', '56606', '9060', '10935', '10993', '84618', '240', '1677', '5321', '2571', '672', '5425', '29988', '1839', '4193', '80308', '1571', '29958', '241', '4548', '92935', '5933', '4190', '3484', '8714', '29935', '6513', '2030', '815', '5603', '1244', '79056', '5360', '5631', '11112', '1312', '1646', '100506742', '5595', '126', '7172', '1595', '57491', '153218', '5833', '2040', '57181', '3326', '2806', '8819', '3082', '6415', '406991', '92737', '8660', '9653', '1871', '2271', '7128', '1557', '25830', '3558', '113189', '388662', '283848', '1385', '2572', '55500', '4616', '2730', '5163', '8318', '55334', '8317', '375', '3614', '2948', '1733', '7490', '4780', '3727', '56262', '572', '29985', '6389', '4790', '7378', '891', '177', '317', '7421', '6667', '7173', '8884', '11309', '23595', '11182', '10728', '9951', '8647', '131', '1572', '1066', '66002', '7465', '83549', '5594', '9134', '25', '445', '1831', '10941', '3939', '8204', '5272', '3148', '84532', '1870', '1535', '3589', '8878', '25824', '7027', '2954', '4175', '6256', '3726', '4217', '383', '55224', '645', '3725', '9486', '641', '7048', '6595', '1119', '1111', '2099', '7029', '2972', '301', '5424', '10252', '3553', '3043', '126410', '2052', '4942', '47', '56548', '2877', '51053', '324', '4257', '5160', '5337', '10587', '983', '10327', '285440', '6289', '6794', '2876', '1555', '56994', '1109', '7546', '1373', '2287', '1579', '994', '257202', '9957', '5982', '7157', '9052', '24137', '653689', '6776', '7371', '5915', '7364', '595', '50', '1962', '1558', '9126', '3067', '5983', '92292', '1576', '445329', '7881', '54600', '2908', '790', '1374', '6718', '5557', '10257', '8509', '64116', '6469', '339983', '8202', '5052', '5409', '1580', '8942', '11057', '574537', '1630', '347902', '1591', '10056', '221074', '2194', '2258', '6472', '9468', '166012', '644314', '4166', '200010', '51302', '10714', '2280', '340024', '1969', '10637', '3176', '6533', '990', '1621', '5290', '1958', '1432', '9429', '7031', '7056', '158', '1019', '55349', '10499', '23054', '115584', '3925', '2687', '51719', '5226', '336', '2941', '3592', '405', '154091', '9394', '6531', '6241', '23395', '51', '2247', '5467', '5054', '351', '57804', '2878', '3383', '384', '2328', '2146', '9152', '64816']\n"
     ]
    }
   ],
   "source": [
    "'''\n",
    "Use IdListHandler to retrieve a list of Entrez_Gene_IDs correponding to Wikipathway_IDs for Drug Set 1\n",
    "'''\n",
    "set1g_other = ih.list_handler(input_id_list=set1pw, input_type='wikipathway_id', output_type='entrez_gene_id')\n",
    "print('Other Entrez Gene IDs related to Drugs in Drug Set 1 is: {}'.format(set1g_other))"
   ]
  },
  {
   "cell_type": "code",
   "execution_count": 12,
   "metadata": {
    "collapsed": false
   },
   "outputs": [
    {
     "name": "stdout",
     "output_type": "stream",
     "text": [
      "['pathway.wikipathways.id']\n",
      "pathway.wikipathways.id:WP2363\n",
      "Fetching 32 gene(s) . . .\n",
      "Number of IDs from mygene.info related to this query pathway.wikipathways.id:WP2363 is : 32\n",
      "['pathway.wikipathways.id']\n",
      "pathway.wikipathways.id:WP536\n",
      "Fetching 149 gene(s) . . .\n",
      "Number of IDs from mygene.info related to this query pathway.wikipathways.id:WP536 is : 149\n",
      "['pathway.wikipathways.id']\n",
      "pathway.wikipathways.id:WP2446\n",
      "Fetching 89 gene(s) . . .\n",
      "Number of IDs from mygene.info related to this query pathway.wikipathways.id:WP2446 is : 89\n",
      "['pathway.wikipathways.id']\n",
      "pathway.wikipathways.id:WP1471\n",
      "Fetching 36 gene(s) . . .\n",
      "Number of IDs from mygene.info related to this query pathway.wikipathways.id:WP1471 is : 36\n",
      "['pathway.wikipathways.id']\n",
      "pathway.wikipathways.id:WP2431\n",
      "Fetching 117 gene(s) . . .\n",
      "Number of IDs from mygene.info related to this query pathway.wikipathways.id:WP2431 is : 117\n",
      "['pathway.wikipathways.id']\n",
      "pathway.wikipathways.id:WP2361\n",
      "Fetching 29 gene(s) . . .\n",
      "Number of IDs from mygene.info related to this query pathway.wikipathways.id:WP2361 is : 29\n",
      "['pathway.wikipathways.id']\n",
      "pathway.wikipathways.id:WP560\n",
      "Fetching 55 gene(s) . . .\n",
      "Number of IDs from mygene.info related to this query pathway.wikipathways.id:WP560 is : 55\n",
      "['pathway.wikipathways.id']\n",
      "pathway.wikipathways.id:WP2377\n",
      "Fetching 170 gene(s) . . .\n",
      "Number of IDs from mygene.info related to this query pathway.wikipathways.id:WP2377 is : 170\n",
      "Other Entrez Gene IDs related to Drugs in Drug Set 1 is: ['6118', '480', '3576', '1021', '580', '8490', '7044', '155', '5743', '7422', '54891', '7534', '1280', '154', '3164', '3976', '406887', '63922', '483', '993', '5914', '3930', '5591', '4216', '890', '57369', '8928', '5601', '492', '10636', '1026', '10681', '6000', '9232', '2773', '112', '1869', '27306', '10811', '207', '1676', '2353', '6696', '1299', '25942', '1463', '51764', '845', '6117', '4609', '51422', '4091', '10592', '5894', '2702', '773', '55299', '776', '2778', '6497', '1616', '5578', '81620', '3172', '4908', '355', '3627', '2064', '8772', '7431', '7124', '1398', '5154', '6403', '816', '5728', '1719', '2776', '3065', '1647', '146', '8209', '1875', '50515', '1950', '4863', '5583', '64006', '50507', '2512', '2309', '8601', '407028', '2260', '5427', '5565', '5925', '5579', '6586', '352954', '23411', '5058', '3716', '64094', '8030', '6790', '25909', '5604', '3422', '10468', '25805', '10411', '3569', '784', '8536', '7040', '2700', '5928', '79109', '5879', '2784', '7046', '4282', '5575', '801', '2783', '489', '10287', '7099', '2770', '51176', '7538', '2596', '9133', '55215', '2668', '5587', '3458', '5562', '4088', '811', '490', '8554', '2902', '5350', '2931', '6546', '596', '9706', '2022', '4605', '7050', '844', '79027', '5156', '7298', '3624', '2919', '6286', '7186', '5320', '6004', '79075', '2771', '5947', '5567', '9628', '23090', '5569', '1131', '11202', '9821', '4089', '3562', '805', '5426', '7153', '5347', '4052', '65078', '6098', '7057', '11124', '115265', '5273', '6277', '7249', '10555', '22974', '2697', '4838', '2956', '6662', '1241', '6502', '842', '86', '25989', '2043', '27113', '10673', '176', '3710', '581', '2775', '3479', '5985', '6908', '2212', '472', '864', '10111', '51316', '2236', '1027', '5362', '4914', '4172', '2706', '898', '6261', '148', '4155', '2792', '2033', '84335', '3552', '64121', '5906', '3845', '57521', '2189', '4173', '675', '5884', '2703', '1499', '358', '1894', '1063', '5598', '54443', '4176', '491', '26575', '2785', '2885', '5588', '3565', '55869', '10325', '4998', '1633', '56963', '3554', '637', '6839', '3952', '6001', '7248', '2475', '820', '8243', '701', '6498', '774', '5573', '3020', '109', '5931', '5999', '5111', '727', '5576', '7832', '2246', '3156', '1874', '9353', '7150', '5563', '5786', '2788', '3265', '8408', '7272', '5571', '4092', '4690', '5530', '2869', '652', '3978', '995', '6608', '63827', '840', '2670', '6547', '11082', '2810', '2782', '5984', '8398', '64131', '3760', '2786', '255488', '7471', '7531', '5173', '6596', '2787', '2920', '6263', '4661', '94235', '58528', '7132', '2868', '841', '1030', '11065', '389', '6714', '860', '9423', '92140', '4804', '1956', '356', '5596', '627', '407025', '55593', '10971', '6119', '2100', '5893', '3015', '3275', '3375', '407011', '11142', '4842', '5371', '7030', '5308', '6240', '4485', '10733', '5422', '5997', '5599', '5566', '6347', '3958', '157769', '2281', '5888', '6009', '843', '488', '3146', '7533', '1786', '4093', '11025', '823', '388', '1948', '486', '10804', '1132', '10052', '55970', '896', '3762', '5803', '4050', '7049', '5564', '387', '836', '7486', '43', '4974', '1017', '54921', '4086', '3708', '6772', '57122', '5322', '4087', '408', '57142', '6774', '84823', '7532', '5877', '4099', '1605', '2870', '5582', '8741', '2791', '6654', '775', '3732', '55615', '9241', '962', '84618', '1677', '409', '5321', '672', '253260', '4090', '286826', '777', '4193', '5580', '5933', '111', '9475', '2707', '815', '9839', '5603', '5595', '100506742', '107', '309', '2781', '1462', '5331', '3709', '3326', '115', '8819', '4851', '406991', '5996', '1871', '3558', '27101', '81025', '64407', '961', '782', '1385', '121504', '5163', '8318', '6262', '8317', '53632', '375', '5581', '7490', '8900', '3727', '5590', '572', '6585', '891', '4790', '317', '6667', '4318', '7465', '5594', '5570', '3745', '9134', '59345', '25', '3694', '328', '57556', '3148', '1870', '3589', '7027', '153', '4175', '6256', '8787', '3726', '383', '729230', '4217', '3725', '998', '1978', '10153', '481', '147', '641', '7048', '54541', '482', '6595', '1111', '2099', '7029', '10670', '2972', '900', '6869', '301', '3553', '29089', '814', '324', '5998', '8786', '196883', '79899', '64223', '6794', '7529', '808', '983', '113', '1297', '2287', '994', '29028', '7157', '9585', '9052', '1464', '108', '24137', '6776', '1128', '5915', '595', '9126', '5983', '2767', '8926', '5557', '1133', '817', '6469', '199', '8607', '1630', '1129', '361', '2701', '10714', '818', '2280', '10637', '6198', '779', '5290', '1958', '7031', '1432', '1282', '54331', '1387', '1019', '57165', '127534', '3925', '114', '51719', '56992', '144455', '713', '4843', '2709', '5577', '9372', '6241', '2247', '5054', '351', '54476', '3383', '55125', '4321', '2705', '2146', '5542']\n"
     ]
    }
   ],
   "source": [
    "'''\n",
    "Use IdListHandler to retrieve a list of Entrez_Gene_IDs correponding to Wikipathway_IDs for Drug Set 2\n",
    "'''\n",
    "set2g_other = ih.list_handler(input_id_list=set2pw, input_type='wikipathway_id', output_type='entrez_gene_id')\n",
    "print('Other Entrez Gene IDs related to Drugs in Drug Set 1 is: {}'.format(set2g_other))"
   ]
  },
  {
   "cell_type": "markdown",
   "metadata": {},
   "source": [
    "<a id='step6'></a>\n",
    "**Step 6.** Execute set comparison analysis to return the set of genes that is uniquely targetd by poorly tolerated drugs (i.e. effected directly or indirectly by poorly tolerated drugs, but not affected by well-tolerated drugs)"
   ]
  },
  {
   "cell_type": "code",
   "execution_count": 13,
   "metadata": {
    "collapsed": false
   },
   "outputs": [
    {
     "name": "stdout",
     "output_type": "stream",
     "text": [
      "Total number of unique genes in gene set 1: 913\n",
      "Total number of unique genes in gene set 2: 592\n"
     ]
    }
   ],
   "source": [
    "'''\n",
    "Get Unique Entrez Gene IDs for both sets\n",
    "'''\n",
    "set1g_other_unique = set(set1g_other)\n",
    "set2g_other_unique = set(set2g_other)\n",
    "print('Total number of unique genes in gene set 1: {}'.format(len(set1g_other_unique)))\n",
    "print('Total number of unique genes in gene set 2: {}'.format(len(set2g_other_unique)))"
   ]
  },
  {
   "cell_type": "code",
   "execution_count": 14,
   "metadata": {
    "collapsed": false
   },
   "outputs": [
    {
     "name": "stdout",
     "output_type": "stream",
     "text": [
      "Total number of genes uniquely targeted by poorly tolerated drugs: 334\n"
     ]
    }
   ],
   "source": [
    "'''\n",
    "Find the set of genes that is uniquely targetd by poorly tolerated drugs (e.g. only present in set2g_other_unique)\n",
    "'''\n",
    "set2g_only = set2g_other_unique - set1g_other_unique\n",
    "print('Total number of genes uniquely targeted by poorly tolerated drugs: {}'.format(len(set2g_only)))"
   ]
  }
 ],
 "metadata": {
  "kernelspec": {
   "display_name": "Python 3",
   "language": "python",
   "name": "python3"
  },
  "language_info": {
   "codemirror_mode": {
    "name": "ipython",
    "version": 3
   },
   "file_extension": ".py",
   "mimetype": "text/x-python",
   "name": "python",
   "nbconvert_exporter": "python",
   "pygments_lexer": "ipython3",
   "version": "3.5.0"
  }
 },
 "nbformat": 4,
 "nbformat_minor": 0
}
