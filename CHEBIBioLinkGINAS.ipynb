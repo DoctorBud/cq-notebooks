{
 "cells": [
  {
   "cell_type": "markdown",
   "metadata": {
    "collapsed": true,
    "deletable": true,
    "editable": true
   },
   "source": [
    "# Simple Example of multiple biological data source acquisition\n",
    "\n",
    "This notebook is intended as a starting point for other researchers and domain experts to explore and experiment with various data sources and how they can be utilized to build pipelines to support a Blackboard architecture that can address important science. Our initial modest goals are to focus on the Translator *competency questions* and begin to incorporate and integrate those data sources we anticipate being useful.\n",
    "\n",
    "## Typical Structure\n",
    "\n",
    "This Notebook, and those that are cloned from it, will follow a typical structure like this:\n",
    "\n",
    "- Background\n",
    "    - Relevant Competency Question(s) or Research Problem\n",
    "    - Current Status and remaining work (just to give the reader context about how finished the notebook is)\n",
    "- Data Sources\n",
    "    - Descriptions and reference, including the API documentation links and a brief description of their scope and content\n",
    "- Transformation and Integration\n",
    "    - Simple Data Access examples to illustrate the API usage and the type/shape of the data\n",
    "    - More sophisticated examples to examine sources and experiment/demonstrate integration possibilities\n",
    "    - Visualization and Summarization\n",
    "- Develop Prototype Pipelines (optional)\n",
    "    - Where possible, prototype a reusable set of code illustrating a desired solution or capability, with an eye towards extracting and modularizing it for presentation via BioLink or integration into other workflows."
   ]
  },
  {
   "cell_type": "markdown",
   "metadata": {
    "deletable": true,
    "editable": true
   },
   "source": [
    "---\n",
    "\n",
    "## Background\n",
    "\n",
    "### Current Status\n",
    "\n",
    "- Accesses CHEBI data via the BioLink API\n",
    "- Accesses GINAS data via their API\n",
    "- Trying to *join* information about 'acetylsalicylic acid' from both data sources, as a toy problem to get started.\n",
    "- We're going to look up 'acetylsalicylic acid' rather than 'aspirin', because it is a common term in all of the sources right now and I'm not sure that the Monarch BioLink API I'm using has the term 'aspirin' yet.\n",
    "\n",
    "\n",
    "### Next Steps\n",
    "\n",
    "- Explore [Pharos](https://pharos.nih.gov/idg/index) API and data sources\n",
    "- Use [mybinder](http://mybinder.org) badge (or a similar hosted Jupyter mechanism) to simplify invocation and editing from GitHub\n",
    "- Try to extract Drug-to-conditions and Condition-to-Drugs relations from sources. Use competency questions to guide this integration.\n",
    "- Consider WikiData as a source\n",
    "- Accommodate anticipated BROAD probability models, possibly by developing a mock API.\n"
   ]
  },
  {
   "cell_type": "markdown",
   "metadata": {
    "deletable": true,
    "editable": true
   },
   "source": [
    "---\n",
    "\n",
    "## Data Sources"
   ]
  },
  {
   "cell_type": "markdown",
   "metadata": {
    "deletable": true,
    "editable": true
   },
   "source": [
    "### CHEBI Data\n",
    "\n",
    "Monarch ingests [Chemical Entities of Biological Interest (ChEBI)](https://www.ebi.ac.uk/chebi/) data and makes it available via SciGraph, the Monarch API, and the new BioLink API.\n",
    "\n",
    "For reference, here is the link to CHEBI's entry for 'acetylsalicylic acid' (aka 'Aspirin'):\n",
    "\n",
    "[CHEBI:15365 acetylsalicylic acid](https://www.ebi.ac.uk/chebi/searchId.do?chebiId=CHEBI:15365)\n",
    "\n",
    "\n",
    "### BioLink substance data from CHEBI via Monarch\n",
    "\n",
    "Monarch has ingested CHEBI data, and we have a `/biolink/substance/{id}/participant_in/` endpoint that seems to return some data:\n",
    "\n",
    "https://api.monarchinitiative.org/api/bioentity/substance/CHEBI:40036/participant_in/\n",
    "\n",
    "However, the basic `/biolink/substance/{id}` endpoint returns no useful data, so we'll have to use the above link until BioLink has a fleshed out `/substance` endpoint.\n",
    "\n"
   ]
  },
  {
   "cell_type": "markdown",
   "metadata": {
    "deletable": true,
    "editable": true
   },
   "source": [
    "### ginas API Substance data from ginas\n",
    "\n",
    "The [Global Ingredient Archival System (ginas)](https://tripod.nih.gov/ginas/#/) provides a common identifier for all of the substances used in medicinal products, utilizing a consistent definition of substances globally, including active substances under clinical investigation. More info at [NCATS ginas](https://ncats.nih.gov/expertise/preclinical/ginas).\n",
    "\n",
    "#### Examples\n",
    "\n",
    "- [ginas Aspirin](https://tripod.nih.gov/ginas/app/api/v1/substances/search?q=root_names_name:\"^ASPIRIN$\")\n",
    "\n",
    "- [ginas acetylsalicylic acid](https://tripod.nih.gov/ginas/app/api/v1/substances/search?q=root_names_name:\"^acetylsalicylic acid$\")\n",
    "\n",
    "\n",
    "\n"
   ]
  },
  {
   "cell_type": "markdown",
   "metadata": {
    "deletable": true,
    "editable": true
   },
   "source": [
    "---\n",
    "\n",
    "## Transformation and Integration\n",
    "\n",
    "I'm going to start out by ensuring that I can obtain useful data from each of the above sources. In this case, I am focusing on a single substance, **aspirin** or **acetylsalicylic acid** (CHEBI:15365).\n"
   ]
  },
  {
   "cell_type": "code",
   "execution_count": null,
   "metadata": {
    "collapsed": false,
    "deletable": true,
    "editable": true
   },
   "outputs": [],
   "source": []
  },
  {
   "cell_type": "markdown",
   "metadata": {
    "deletable": true,
    "editable": true
   },
   "source": [
    "### Reading BioLink's `/substance` endpoint for CHEBI data"
   ]
  },
  {
   "cell_type": "code",
   "execution_count": 1,
   "metadata": {
    "collapsed": false,
    "deletable": true,
    "editable": true,
    "scrolled": true
   },
   "outputs": [
    {
     "data": {
      "text/html": [
       "<div>\n",
       "<table border=\"1\" class=\"dataframe\">\n",
       "  <thead>\n",
       "    <tr style=\"text-align: right;\">\n",
       "      <th></th>\n",
       "      <th>evidence_graph</th>\n",
       "      <th>evidence_types</th>\n",
       "      <th>id</th>\n",
       "      <th>object</th>\n",
       "      <th>object_extension</th>\n",
       "      <th>provided_by</th>\n",
       "      <th>publications</th>\n",
       "      <th>qualifiers</th>\n",
       "      <th>relation</th>\n",
       "      <th>slim</th>\n",
       "      <th>subject</th>\n",
       "      <th>subject_extension</th>\n",
       "      <th>type</th>\n",
       "    </tr>\n",
       "  </thead>\n",
       "  <tbody>\n",
       "    <tr>\n",
       "      <th>0</th>\n",
       "      <td>{'nodes': None, 'edges': None}</td>\n",
       "      <td>NaN</td>\n",
       "      <td>NaN</td>\n",
       "      <td>{'xrefs': None, 'categories': None, 'id': 'CHEBI:22723', 'taxon': {'label': None, 'id': None}, 'synonyms': None, 'description': None, 'label': 'benzoic acids', 'types': None}</td>\n",
       "      <td>NaN</td>\n",
       "      <td>NaN</td>\n",
       "      <td>NaN</td>\n",
       "      <td>NaN</td>\n",
       "      <td>{'categories': None, 'id': None, 'synonyms': None, 'description': None, 'label': None, 'types': None}</td>\n",
       "      <td>NaN</td>\n",
       "      <td>{'xrefs': None, 'categories': None, 'id': 'CHEBI:15365', 'taxon': {'label': None, 'id': None}, 'synonyms': None, 'description': None, 'label': 'acetylsalicylic acid', 'types': None}</td>\n",
       "      <td>NaN</td>\n",
       "      <td>NaN</td>\n",
       "    </tr>\n",
       "    <tr>\n",
       "      <th>1</th>\n",
       "      <td>{'nodes': None, 'edges': None}</td>\n",
       "      <td>NaN</td>\n",
       "      <td>NaN</td>\n",
       "      <td>{'xrefs': None, 'categories': None, 'id': 'CHEBI:47622', 'taxon': {'label': None, 'id': None}, 'synonyms': None, 'description': None, 'label': 'acetate ester', 'types': None}</td>\n",
       "      <td>NaN</td>\n",
       "      <td>NaN</td>\n",
       "      <td>NaN</td>\n",
       "      <td>NaN</td>\n",
       "      <td>{'categories': None, 'id': None, 'synonyms': None, 'description': None, 'label': None, 'types': None}</td>\n",
       "      <td>NaN</td>\n",
       "      <td>{'xrefs': None, 'categories': None, 'id': 'CHEBI:15365', 'taxon': {'label': None, 'id': None}, 'synonyms': None, 'description': None, 'label': 'acetylsalicylic acid', 'types': None}</td>\n",
       "      <td>NaN</td>\n",
       "      <td>NaN</td>\n",
       "    </tr>\n",
       "    <tr>\n",
       "      <th>2</th>\n",
       "      <td>{'nodes': None, 'edges': None}</td>\n",
       "      <td>NaN</td>\n",
       "      <td>NaN</td>\n",
       "      <td>{'xrefs': None, 'categories': None, 'id': 'CHEBI:50630', 'taxon': {'label': None, 'id': None}, 'synonyms': None, 'description': None, 'label': 'cyclooxygenase 1 inhibitor', 'types': None}</td>\n",
       "      <td>NaN</td>\n",
       "      <td>NaN</td>\n",
       "      <td>NaN</td>\n",
       "      <td>NaN</td>\n",
       "      <td>{'categories': None, 'id': None, 'synonyms': None, 'description': None, 'label': None, 'types': None}</td>\n",
       "      <td>NaN</td>\n",
       "      <td>{'xrefs': None, 'categories': None, 'id': 'CHEBI:15365', 'taxon': {'label': None, 'id': None}, 'synonyms': None, 'description': None, 'label': 'acetylsalicylic acid', 'types': None}</td>\n",
       "      <td>NaN</td>\n",
       "      <td>NaN</td>\n",
       "    </tr>\n",
       "  </tbody>\n",
       "</table>\n",
       "</div>"
      ],
      "text/plain": [
       "                   evidence_graph  evidence_types  id                                                                                                                                                                                       object  object_extension  provided_by  publications  qualifiers                                                                                               relation  slim                                                                                                                                                                                subject  subject_extension  type\n",
       "0  {'nodes': None, 'edges': None}             NaN NaN               {'xrefs': None, 'categories': None, 'id': 'CHEBI:22723', 'taxon': {'label': None, 'id': None}, 'synonyms': None, 'description': None, 'label': 'benzoic acids', 'types': None}               NaN          NaN           NaN         NaN  {'categories': None, 'id': None, 'synonyms': None, 'description': None, 'label': None, 'types': None}   NaN  {'xrefs': None, 'categories': None, 'id': 'CHEBI:15365', 'taxon': {'label': None, 'id': None}, 'synonyms': None, 'description': None, 'label': 'acetylsalicylic acid', 'types': None}                NaN   NaN\n",
       "1  {'nodes': None, 'edges': None}             NaN NaN               {'xrefs': None, 'categories': None, 'id': 'CHEBI:47622', 'taxon': {'label': None, 'id': None}, 'synonyms': None, 'description': None, 'label': 'acetate ester', 'types': None}               NaN          NaN           NaN         NaN  {'categories': None, 'id': None, 'synonyms': None, 'description': None, 'label': None, 'types': None}   NaN  {'xrefs': None, 'categories': None, 'id': 'CHEBI:15365', 'taxon': {'label': None, 'id': None}, 'synonyms': None, 'description': None, 'label': 'acetylsalicylic acid', 'types': None}                NaN   NaN\n",
       "2  {'nodes': None, 'edges': None}             NaN NaN  {'xrefs': None, 'categories': None, 'id': 'CHEBI:50630', 'taxon': {'label': None, 'id': None}, 'synonyms': None, 'description': None, 'label': 'cyclooxygenase 1 inhibitor', 'types': None}               NaN          NaN           NaN         NaN  {'categories': None, 'id': None, 'synonyms': None, 'description': None, 'label': None, 'types': None}   NaN  {'xrefs': None, 'categories': None, 'id': 'CHEBI:15365', 'taxon': {'label': None, 'id': None}, 'synonyms': None, 'description': None, 'label': 'acetylsalicylic acid', 'types': None}                NaN   NaN"
      ]
     },
     "execution_count": 1,
     "metadata": {},
     "output_type": "execute_result"
    }
   ],
   "source": [
    "import pandas as pd\n",
    "from urllib.parse import urlencode\n",
    "pd.set_option('max_colwidth', 3800)\n",
    "pd.set_option('display.expand_frame_repr', False)\n",
    "biolinkURL = \"https://api.monarchinitiative.org/api/bioentity/substance/CHEBI%3A15365/participant_in/?rows=20&fetch_objects=true\"\n",
    "df = pd.read_json(biolinkURL, typ=\"frame\", orient=\"records\")\n",
    "df.head(3) # Show the first 3 rows only \n",
    "# df\n"
   ]
  },
  {
   "cell_type": "markdown",
   "metadata": {
    "deletable": true,
    "editable": true
   },
   "source": [
    "Now that we see the data frame from our source, we can use ordinary Python (and the pandas library) to access different parts. For example, let's grab the first row's `object` value."
   ]
  },
  {
   "cell_type": "code",
   "execution_count": 2,
   "metadata": {
    "collapsed": false,
    "deletable": true,
    "editable": true
   },
   "outputs": [
    {
     "data": {
      "text/plain": [
       "{'categories': None,\n",
       " 'description': None,\n",
       " 'id': 'CHEBI:22723',\n",
       " 'label': 'benzoic acids',\n",
       " 'synonyms': None,\n",
       " 'taxon': {'id': None, 'label': None},\n",
       " 'types': None,\n",
       " 'xrefs': None}"
      ]
     },
     "execution_count": 2,
     "metadata": {},
     "output_type": "execute_result"
    }
   ],
   "source": [
    "df.object[0]"
   ]
  },
  {
   "cell_type": "code",
   "execution_count": 3,
   "metadata": {
    "collapsed": false,
    "deletable": true,
    "editable": true
   },
   "outputs": [
    {
     "data": {
      "text/plain": [
       "'benzoic acids'"
      ]
     },
     "execution_count": 3,
     "metadata": {},
     "output_type": "execute_result"
    }
   ],
   "source": [
    "df.object[0]['label']"
   ]
  },
  {
   "cell_type": "markdown",
   "metadata": {
    "deletable": true,
    "editable": true
   },
   "source": [
    "### Reading ginas data"
   ]
  },
  {
   "cell_type": "code",
   "execution_count": 4,
   "metadata": {
    "collapsed": false,
    "deletable": true,
    "editable": true
   },
   "outputs": [
    {
     "data": {
      "text/plain": [
       "'https://tripod.nih.gov/ginas/app/api/v1/substances/search?q=root_names_name%3A%22%5Eacetylsalicylic+acid%24%22'"
      ]
     },
     "execution_count": 4,
     "metadata": {},
     "output_type": "execute_result"
    }
   ],
   "source": [
    "ginasBase = \"https://tripod.nih.gov/ginas/app/api/v1/substances/search?\"\n",
    "ginasParams = {'q': \"root_names_name:\\\"^acetylsalicylic acid$\\\"\"}\n",
    "\n",
    "ginasPath = urlencode(ginasParams)\n",
    "ginasURL = ginasBase + ginasPath\n",
    "\n",
    "ginasURL"
   ]
  },
  {
   "cell_type": "markdown",
   "metadata": {
    "deletable": true,
    "editable": true
   },
   "source": [
    "One problem that I encountered is that the ginas API response is not in a format that is compatible with the `pandas` `read_json` method. So we'll need to preprocess the response to make it pandas-compatible, or alternatively, we can just use the JSON directly without using pandas, although that may inhibit some experimentation and visualization that is afforded by data frames."
   ]
  },
  {
   "cell_type": "code",
   "execution_count": 5,
   "metadata": {
    "collapsed": false,
    "deletable": true,
    "editable": true
   },
   "outputs": [
    {
     "data": {
      "text/plain": [
       "[{'_approvalIDDisplay': 'R16CO5Y76E',\n",
       "  '_codes': {'count': 51,\n",
       "   'href': 'http://tripod.nih.gov/ginas/app/api/v1/substances(8911c794-5da3-4934-a683-16d98d93db97)/codes'},\n",
       "  '_moieties': {'count': 1,\n",
       "   'href': 'http://tripod.nih.gov/ginas/app/api/v1/substances(8911c794-5da3-4934-a683-16d98d93db97)/moieties'},\n",
       "  '_name': 'ASPIRIN',\n",
       "  '_names': {'count': 76,\n",
       "   'href': 'http://tripod.nih.gov/ginas/app/api/v1/substances(8911c794-5da3-4934-a683-16d98d93db97)/names'},\n",
       "  '_references': {'count': 73,\n",
       "   'href': 'http://tripod.nih.gov/ginas/app/api/v1/substances(8911c794-5da3-4934-a683-16d98d93db97)/references'},\n",
       "  '_relationships': {'count': 27,\n",
       "   'href': 'http://tripod.nih.gov/ginas/app/api/v1/substances(8911c794-5da3-4934-a683-16d98d93db97)/relationships'},\n",
       "  '_self': 'http://tripod.nih.gov/ginas/app/api/v1/substances(8911c794-5da3-4934-a683-16d98d93db97)?view=full',\n",
       "  'access': [],\n",
       "  'approvalID': 'R16CO5Y76E',\n",
       "  'approved': 1470433417000,\n",
       "  'approvedBy': 'FDA_SRS',\n",
       "  'created': 1471037433000,\n",
       "  'createdBy': 'admin',\n",
       "  'definitionLevel': 'COMPLETE',\n",
       "  'definitionType': 'PRIMARY',\n",
       "  'deprecated': False,\n",
       "  'lastEdited': 1471037433000,\n",
       "  'lastEditedBy': 'admin',\n",
       "  'status': 'approved',\n",
       "  'structure': {'_properties': {'count': 5,\n",
       "    'href': 'http://tripod.nih.gov/ginas/app/api/v1/structures(3d311a51-d4f2-4878-ab53-45e6d9640ae3)/properties'},\n",
       "   'access': [],\n",
       "   'atropisomerism': 'No',\n",
       "   'charge': 0,\n",
       "   'count': 1,\n",
       "   'created': 1471037433000,\n",
       "   'createdBy': 'admin',\n",
       "   'definedStereo': 0,\n",
       "   'deprecated': False,\n",
       "   'digest': '8f13a762c2818d1407a79edf0fe0218dc88f7a9f',\n",
       "   'ezCenters': 0,\n",
       "   'formula': 'C9H8O4',\n",
       "   'hash': 'NNQ793F142LD',\n",
       "   'id': '3d311a51-d4f2-4878-ab53-45e6d9640ae3',\n",
       "   'lastEdited': 1471037433000,\n",
       "   'lastEditedBy': 'admin',\n",
       "   'molfile': '\\n  Symyx   06151614272D 1   1.00000     0.00000     0\\n\\n 13 13  0     0  0            999 V2000\\n    4.6125   -1.9917    0.0000 C   0  0  0  0  0  0           0  0  0\\n    4.6125   -0.6792    0.0000 C   0  0  0  0  0  0           0  0  0\\n    3.4542   -2.6792    0.0000 C   0  0  0  0  0  0           0  0  0\\n    2.3167   -1.9917    0.0000 O   0  0  0  0  0  0           0  0  0\\n    1.1542   -2.6375    0.0000 C   0  0  0  0  0  0           0  0  0\\n    5.7417   -0.0250    0.0000 O   0  0  0  0  0  0           0  0  0\\n    0.0000   -1.9917    0.0000 O   0  0  0  0  0  0           0  0  0\\n    3.4792    0.0000    0.0000 O   0  0  0  0  0  0           0  0  0\\n    5.7750   -2.6792    0.0000 C   0  0  0  0  0  0           0  0  0\\n    3.4542   -3.9667    0.0000 C   0  0  0  0  0  0           0  0  0\\n    1.1542   -3.9667    0.0000 C   0  0  0  0  0  0           0  0  0\\n    5.7750   -4.0042    0.0000 C   0  0  0  0  0  0           0  0  0\\n    4.5792   -4.6917    0.0000 C   0  0  0  0  0  0           0  0  0\\n  2  1  1  0     0  0\\n  3  1  2  0     0  0\\n  4  3  1  0     0  0\\n  5  4  1  0     0  0\\n  6  2  2  0     0  0\\n  7  5  2  0     0  0\\n  8  2  1  0     0  0\\n  9  1  1  0     0  0\\n 10  3  1  0     0  0\\n 11  5  1  0     0  0\\n 12  9  2  0     0  0\\n 13 12  1  0     0  0\\n 13 10  2  0     0  0\\nM  END\\n',\n",
       "   'mwt': 180.1574,\n",
       "   'opticalActivity': 'UNSPECIFIED',\n",
       "   'references': ['e794afad-a478-4c69-b6bd-1c7a8fe46baf',\n",
       "    '25e72485-091c-47f8-9a00-7dd47689bf58'],\n",
       "   'self': 'http://tripod.nih.gov/ginas/app/api/v1/structures(3d311a51-d4f2-4878-ab53-45e6d9640ae3)?view=full',\n",
       "   'smiles': 'CC(=O)OC1=CC=CC=C1C(O)=O',\n",
       "   'stereoCenters': 0,\n",
       "   'stereoComments': '',\n",
       "   'stereochemistry': 'ACHIRAL'},\n",
       "  'substanceClass': 'chemical',\n",
       "  'uuid': '8911c794-5da3-4934-a683-16d98d93db97',\n",
       "  'version': '1'}]"
      ]
     },
     "execution_count": 5,
     "metadata": {},
     "output_type": "execute_result"
    }
   ],
   "source": [
    "import json\n",
    "\n",
    "import requests\n",
    "\n",
    "r = requests.get(ginasURL)\n",
    "c = r.json()\n",
    "# print(json.dumps(c, indent=2))\n",
    "c['content']\n"
   ]
  },
  {
   "cell_type": "markdown",
   "metadata": {
    "deletable": true,
    "editable": true
   },
   "source": [
    "##### Work in Progress\n",
    "\n",
    "The GINAS JSON result is not compatible with a pandas data frame, so we will have to use an alternative way to manipulate it, or try to convert it to a data frame.\n",
    "\n",
    "**The following code breaks**"
   ]
  },
  {
   "cell_type": "code",
   "execution_count": 6,
   "metadata": {
    "collapsed": false,
    "deletable": true,
    "editable": true
   },
   "outputs": [
    {
     "ename": "ValueError",
     "evalue": "arrays must all be same length",
     "output_type": "error",
     "traceback": [
      "\u001b[0;31m---------------------------------------------------------------------------\u001b[0m",
      "\u001b[0;31mValueError\u001b[0m                                Traceback (most recent call last)",
      "\u001b[0;32m<ipython-input-6-91375b3a089a>\u001b[0m in \u001b[0;36m<module>\u001b[0;34m()\u001b[0m\n\u001b[1;32m      4\u001b[0m \u001b[0;34m\u001b[0m\u001b[0m\n\u001b[1;32m      5\u001b[0m \u001b[0;34m\u001b[0m\u001b[0m\n\u001b[0;32m----> 6\u001b[0;31m \u001b[0mdf\u001b[0m \u001b[0;34m=\u001b[0m \u001b[0mpd\u001b[0m\u001b[0;34m.\u001b[0m\u001b[0mread_json\u001b[0m\u001b[0;34m(\u001b[0m\u001b[0mginasURL\u001b[0m\u001b[0;34m,\u001b[0m \u001b[0mtyp\u001b[0m\u001b[0;34m=\u001b[0m\u001b[0;34m'frame'\u001b[0m\u001b[0;34m,\u001b[0m \u001b[0morient\u001b[0m\u001b[0;34m=\u001b[0m\u001b[0;34m\"index\"\u001b[0m\u001b[0;34m)\u001b[0m\u001b[0;34m\u001b[0m\u001b[0m\n\u001b[0m\u001b[1;32m      7\u001b[0m \u001b[0;31m# df.head(5)\u001b[0m\u001b[0;34m\u001b[0m\u001b[0;34m\u001b[0m\u001b[0m\n\u001b[1;32m      8\u001b[0m \u001b[0mdf\u001b[0m\u001b[0;34m\u001b[0m\u001b[0m\n",
      "\u001b[0;32m/Users/bud/MI/cq-notebooks/env/lib/python3.5/site-packages/pandas/io/json.py\u001b[0m in \u001b[0;36mread_json\u001b[0;34m(path_or_buf, orient, typ, dtype, convert_axes, convert_dates, keep_default_dates, numpy, precise_float, date_unit, encoding, lines)\u001b[0m\n\u001b[1;32m    279\u001b[0m         obj = FrameParser(json, orient, dtype, convert_axes, convert_dates,\n\u001b[1;32m    280\u001b[0m                           \u001b[0mkeep_default_dates\u001b[0m\u001b[0;34m,\u001b[0m \u001b[0mnumpy\u001b[0m\u001b[0;34m,\u001b[0m \u001b[0mprecise_float\u001b[0m\u001b[0;34m,\u001b[0m\u001b[0;34m\u001b[0m\u001b[0m\n\u001b[0;32m--> 281\u001b[0;31m                           date_unit).parse()\n\u001b[0m\u001b[1;32m    282\u001b[0m \u001b[0;34m\u001b[0m\u001b[0m\n\u001b[1;32m    283\u001b[0m     \u001b[0;32mif\u001b[0m \u001b[0mtyp\u001b[0m \u001b[0;34m==\u001b[0m \u001b[0;34m'series'\u001b[0m \u001b[0;32mor\u001b[0m \u001b[0mobj\u001b[0m \u001b[0;32mis\u001b[0m \u001b[0;32mNone\u001b[0m\u001b[0;34m:\u001b[0m\u001b[0;34m\u001b[0m\u001b[0m\n",
      "\u001b[0;32m/Users/bud/MI/cq-notebooks/env/lib/python3.5/site-packages/pandas/io/json.py\u001b[0m in \u001b[0;36mparse\u001b[0;34m(self)\u001b[0m\n\u001b[1;32m    347\u001b[0m \u001b[0;34m\u001b[0m\u001b[0m\n\u001b[1;32m    348\u001b[0m         \u001b[0;32melse\u001b[0m\u001b[0;34m:\u001b[0m\u001b[0;34m\u001b[0m\u001b[0m\n\u001b[0;32m--> 349\u001b[0;31m             \u001b[0mself\u001b[0m\u001b[0;34m.\u001b[0m\u001b[0m_parse_no_numpy\u001b[0m\u001b[0;34m(\u001b[0m\u001b[0;34m)\u001b[0m\u001b[0;34m\u001b[0m\u001b[0m\n\u001b[0m\u001b[1;32m    350\u001b[0m \u001b[0;34m\u001b[0m\u001b[0m\n\u001b[1;32m    351\u001b[0m         \u001b[0;32mif\u001b[0m \u001b[0mself\u001b[0m\u001b[0;34m.\u001b[0m\u001b[0mobj\u001b[0m \u001b[0;32mis\u001b[0m \u001b[0;32mNone\u001b[0m\u001b[0;34m:\u001b[0m\u001b[0;34m\u001b[0m\u001b[0m\n",
      "\u001b[0;32m/Users/bud/MI/cq-notebooks/env/lib/python3.5/site-packages/pandas/io/json.py\u001b[0m in \u001b[0;36m_parse_no_numpy\u001b[0;34m(self)\u001b[0m\n\u001b[1;32m    574\u001b[0m         \u001b[0;32melif\u001b[0m \u001b[0morient\u001b[0m \u001b[0;34m==\u001b[0m \u001b[0;34m\"index\"\u001b[0m\u001b[0;34m:\u001b[0m\u001b[0;34m\u001b[0m\u001b[0m\n\u001b[1;32m    575\u001b[0m             self.obj = DataFrame(\n\u001b[0;32m--> 576\u001b[0;31m                 loads(json, precise_float=self.precise_float), dtype=None).T\n\u001b[0m\u001b[1;32m    577\u001b[0m         \u001b[0;32melse\u001b[0m\u001b[0;34m:\u001b[0m\u001b[0;34m\u001b[0m\u001b[0m\n\u001b[1;32m    578\u001b[0m             self.obj = DataFrame(\n",
      "\u001b[0;32m/Users/bud/MI/cq-notebooks/env/lib/python3.5/site-packages/pandas/core/frame.py\u001b[0m in \u001b[0;36m__init__\u001b[0;34m(self, data, index, columns, dtype, copy)\u001b[0m\n\u001b[1;32m    264\u001b[0m                                  dtype=dtype, copy=copy)\n\u001b[1;32m    265\u001b[0m         \u001b[0;32melif\u001b[0m \u001b[0misinstance\u001b[0m\u001b[0;34m(\u001b[0m\u001b[0mdata\u001b[0m\u001b[0;34m,\u001b[0m \u001b[0mdict\u001b[0m\u001b[0;34m)\u001b[0m\u001b[0;34m:\u001b[0m\u001b[0;34m\u001b[0m\u001b[0m\n\u001b[0;32m--> 266\u001b[0;31m             \u001b[0mmgr\u001b[0m \u001b[0;34m=\u001b[0m \u001b[0mself\u001b[0m\u001b[0;34m.\u001b[0m\u001b[0m_init_dict\u001b[0m\u001b[0;34m(\u001b[0m\u001b[0mdata\u001b[0m\u001b[0;34m,\u001b[0m \u001b[0mindex\u001b[0m\u001b[0;34m,\u001b[0m \u001b[0mcolumns\u001b[0m\u001b[0;34m,\u001b[0m \u001b[0mdtype\u001b[0m\u001b[0;34m=\u001b[0m\u001b[0mdtype\u001b[0m\u001b[0;34m)\u001b[0m\u001b[0;34m\u001b[0m\u001b[0m\n\u001b[0m\u001b[1;32m    267\u001b[0m         \u001b[0;32melif\u001b[0m \u001b[0misinstance\u001b[0m\u001b[0;34m(\u001b[0m\u001b[0mdata\u001b[0m\u001b[0;34m,\u001b[0m \u001b[0mma\u001b[0m\u001b[0;34m.\u001b[0m\u001b[0mMaskedArray\u001b[0m\u001b[0;34m)\u001b[0m\u001b[0;34m:\u001b[0m\u001b[0;34m\u001b[0m\u001b[0m\n\u001b[1;32m    268\u001b[0m             \u001b[0;32mimport\u001b[0m \u001b[0mnumpy\u001b[0m\u001b[0;34m.\u001b[0m\u001b[0mma\u001b[0m\u001b[0;34m.\u001b[0m\u001b[0mmrecords\u001b[0m \u001b[0;32mas\u001b[0m \u001b[0mmrecords\u001b[0m\u001b[0;34m\u001b[0m\u001b[0m\n",
      "\u001b[0;32m/Users/bud/MI/cq-notebooks/env/lib/python3.5/site-packages/pandas/core/frame.py\u001b[0m in \u001b[0;36m_init_dict\u001b[0;34m(self, data, index, columns, dtype)\u001b[0m\n\u001b[1;32m    400\u001b[0m             \u001b[0marrays\u001b[0m \u001b[0;34m=\u001b[0m \u001b[0;34m[\u001b[0m\u001b[0mdata\u001b[0m\u001b[0;34m[\u001b[0m\u001b[0mk\u001b[0m\u001b[0;34m]\u001b[0m \u001b[0;32mfor\u001b[0m \u001b[0mk\u001b[0m \u001b[0;32min\u001b[0m \u001b[0mkeys\u001b[0m\u001b[0;34m]\u001b[0m\u001b[0;34m\u001b[0m\u001b[0m\n\u001b[1;32m    401\u001b[0m \u001b[0;34m\u001b[0m\u001b[0m\n\u001b[0;32m--> 402\u001b[0;31m         \u001b[0;32mreturn\u001b[0m \u001b[0m_arrays_to_mgr\u001b[0m\u001b[0;34m(\u001b[0m\u001b[0marrays\u001b[0m\u001b[0;34m,\u001b[0m \u001b[0mdata_names\u001b[0m\u001b[0;34m,\u001b[0m \u001b[0mindex\u001b[0m\u001b[0;34m,\u001b[0m \u001b[0mcolumns\u001b[0m\u001b[0;34m,\u001b[0m \u001b[0mdtype\u001b[0m\u001b[0;34m=\u001b[0m\u001b[0mdtype\u001b[0m\u001b[0;34m)\u001b[0m\u001b[0;34m\u001b[0m\u001b[0m\n\u001b[0m\u001b[1;32m    403\u001b[0m \u001b[0;34m\u001b[0m\u001b[0m\n\u001b[1;32m    404\u001b[0m     \u001b[0;32mdef\u001b[0m \u001b[0m_init_ndarray\u001b[0m\u001b[0;34m(\u001b[0m\u001b[0mself\u001b[0m\u001b[0;34m,\u001b[0m \u001b[0mvalues\u001b[0m\u001b[0;34m,\u001b[0m \u001b[0mindex\u001b[0m\u001b[0;34m,\u001b[0m \u001b[0mcolumns\u001b[0m\u001b[0;34m,\u001b[0m \u001b[0mdtype\u001b[0m\u001b[0;34m=\u001b[0m\u001b[0;32mNone\u001b[0m\u001b[0;34m,\u001b[0m \u001b[0mcopy\u001b[0m\u001b[0;34m=\u001b[0m\u001b[0;32mFalse\u001b[0m\u001b[0;34m)\u001b[0m\u001b[0;34m:\u001b[0m\u001b[0;34m\u001b[0m\u001b[0m\n",
      "\u001b[0;32m/Users/bud/MI/cq-notebooks/env/lib/python3.5/site-packages/pandas/core/frame.py\u001b[0m in \u001b[0;36m_arrays_to_mgr\u001b[0;34m(arrays, arr_names, index, columns, dtype)\u001b[0m\n\u001b[1;32m   5396\u001b[0m     \u001b[0;31m# figure out the index, if necessary\u001b[0m\u001b[0;34m\u001b[0m\u001b[0;34m\u001b[0m\u001b[0m\n\u001b[1;32m   5397\u001b[0m     \u001b[0;32mif\u001b[0m \u001b[0mindex\u001b[0m \u001b[0;32mis\u001b[0m \u001b[0;32mNone\u001b[0m\u001b[0;34m:\u001b[0m\u001b[0;34m\u001b[0m\u001b[0m\n\u001b[0;32m-> 5398\u001b[0;31m         \u001b[0mindex\u001b[0m \u001b[0;34m=\u001b[0m \u001b[0mextract_index\u001b[0m\u001b[0;34m(\u001b[0m\u001b[0marrays\u001b[0m\u001b[0;34m)\u001b[0m\u001b[0;34m\u001b[0m\u001b[0m\n\u001b[0m\u001b[1;32m   5399\u001b[0m     \u001b[0;32melse\u001b[0m\u001b[0;34m:\u001b[0m\u001b[0;34m\u001b[0m\u001b[0m\n\u001b[1;32m   5400\u001b[0m         \u001b[0mindex\u001b[0m \u001b[0;34m=\u001b[0m \u001b[0m_ensure_index\u001b[0m\u001b[0;34m(\u001b[0m\u001b[0mindex\u001b[0m\u001b[0;34m)\u001b[0m\u001b[0;34m\u001b[0m\u001b[0m\n",
      "\u001b[0;32m/Users/bud/MI/cq-notebooks/env/lib/python3.5/site-packages/pandas/core/frame.py\u001b[0m in \u001b[0;36mextract_index\u001b[0;34m(data)\u001b[0m\n\u001b[1;32m   5444\u001b[0m             \u001b[0mlengths\u001b[0m \u001b[0;34m=\u001b[0m \u001b[0mlist\u001b[0m\u001b[0;34m(\u001b[0m\u001b[0mset\u001b[0m\u001b[0;34m(\u001b[0m\u001b[0mraw_lengths\u001b[0m\u001b[0;34m)\u001b[0m\u001b[0;34m)\u001b[0m\u001b[0;34m\u001b[0m\u001b[0m\n\u001b[1;32m   5445\u001b[0m             \u001b[0;32mif\u001b[0m \u001b[0mlen\u001b[0m\u001b[0;34m(\u001b[0m\u001b[0mlengths\u001b[0m\u001b[0;34m)\u001b[0m \u001b[0;34m>\u001b[0m \u001b[0;36m1\u001b[0m\u001b[0;34m:\u001b[0m\u001b[0;34m\u001b[0m\u001b[0m\n\u001b[0;32m-> 5446\u001b[0;31m                 \u001b[0;32mraise\u001b[0m \u001b[0mValueError\u001b[0m\u001b[0;34m(\u001b[0m\u001b[0;34m'arrays must all be same length'\u001b[0m\u001b[0;34m)\u001b[0m\u001b[0;34m\u001b[0m\u001b[0m\n\u001b[0m\u001b[1;32m   5447\u001b[0m \u001b[0;34m\u001b[0m\u001b[0m\n\u001b[1;32m   5448\u001b[0m             \u001b[0;32mif\u001b[0m \u001b[0mhave_dicts\u001b[0m\u001b[0;34m:\u001b[0m\u001b[0;34m\u001b[0m\u001b[0m\n",
      "\u001b[0;31mValueError\u001b[0m: arrays must all be same length"
     ]
    }
   ],
   "source": [
    "pd.set_option('display.max_rows', 500)\n",
    "pd.set_option('display.max_columns', 500)\n",
    "pd.set_option('display.width', 3000)\n",
    "\n",
    "\n",
    "df = pd.read_json(ginasURL, typ='frame', orient=\"index\")\n",
    "# df.head(5)\n",
    "df"
   ]
  },
  {
   "cell_type": "markdown",
   "metadata": {
    "collapsed": true,
    "deletable": true,
    "editable": true
   },
   "source": [
    "---\n",
    "\n",
    "## Prototype Pipelines\n",
    "\n",
    "None available yet\n"
   ]
  },
  {
   "cell_type": "code",
   "execution_count": null,
   "metadata": {
    "collapsed": true
   },
   "outputs": [],
   "source": []
  }
 ],
 "metadata": {
  "kernelspec": {
   "display_name": "Python 3",
   "language": "python",
   "name": "python3"
  },
  "language_info": {
   "codemirror_mode": {
    "name": "ipython",
    "version": 3
   },
   "file_extension": ".py",
   "mimetype": "text/x-python",
   "name": "python",
   "nbconvert_exporter": "python",
   "pygments_lexer": "ipython3",
   "version": "3.5.2"
  }
 },
 "nbformat": 4,
 "nbformat_minor": 2
}
