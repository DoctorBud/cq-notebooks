{
 "cells": [
  {
   "cell_type": "code",
   "execution_count": 1,
   "metadata": {
    "collapsed": true
   },
   "outputs": [],
   "source": [
    "# Import Green Translator API\n",
    "import pprint\n",
    "from greentranslator.api import GreenTranslator\n",
    "green = GreenTranslator ()"
   ]
  },
  {
   "cell_type": "code",
   "execution_count": 5,
   "metadata": {
    "collapsed": false
   },
   "outputs": [
    {
     "name": "stdout",
     "output_type": "stream",
     "text": [
      "[{'chemical': 'http://bio2rdf.org/mesh:D052638',\n",
      "  'gene': 'http://chem2bio2rdf.org/uniprot/resource/gene/NCF1',\n",
      "  'human': True,\n",
      "  'pathID': 'hsa04062',\n",
      "  'pathName': 'path:hsa04062 Chemokine signaling pathway - Homo sapiens '\n",
      "              '(human)',\n",
      "  'pathway': 'http://chem2bio2rdf.org/kegg/resource/kegg_pathway/hsa04062'},\n",
      " {'chemical': 'http://bio2rdf.org/mesh:D052638',\n",
      "  'gene': 'http://chem2bio2rdf.org/uniprot/resource/gene/NCF1',\n",
      "  'human': True,\n",
      "  'pathID': 'hsa04062',\n",
      "  'pathName': 'path:hsa04062 Chemokine signaling pathway - Homo sapiens '\n",
      "              '(human)',\n",
      "  'pathway': 'http://chem2bio2rdf.org/kegg/resource/kegg_pathway/hsa04062'}]\n",
      "['Acetaminophen',\n",
      " 'Cyclophosphamide',\n",
      " 'Carmustine',\n",
      " 'Zileuton',\n",
      " 'Cilostazol',\n",
      " '1,2-Dihydroxybenzene',\n",
      " '2-(4-Morpholinyl)-8-Phenyl-4h-1-Benzopyran-4-One',\n",
      " '(11-BETA)-11,21-DIHYDROXY-PREGN-4-ENE-3,20-DIONE',\n",
      " '2H-1-BENZOPYRAN-2-ONE',\n",
      " 'Theophylline',\n",
      " 'Rosiglitazone',\n",
      " 'Raloxifene',\n",
      " 'Propranolol',\n",
      " 'Fenofibrate',\n",
      " 'Vitamin E']\n"
     ]
    }
   ],
   "source": [
    "# Question 3: What medications are available that act on the protein (gene) targets and biological pathways \n",
    "#             that are activated or inhibited by particulate matter <=2.5 micrometers in diameter (PM2.5) \n",
    "#             and ozone exposure?\n",
    "\n",
    "pm_targets = green.medbiochem.get_exposure_conditions (chemicals = [ 'D052638' ])\n",
    "pprint.pprint (pm_targets[:2])\n",
    "\n",
    "drugs = green.medbiochem.get_drugs_by_condition (conditions=[ \"d001249\" ])\n",
    "pprint.pprint (drugs[:15])\n",
    "\n",
    "# TODO: Link drugs and proteins."
   ]
  },
  {
   "cell_type": "code",
   "execution_count": null,
   "metadata": {
    "collapsed": true
   },
   "outputs": [],
   "source": []
  }
 ],
 "metadata": {
  "kernelspec": {
   "display_name": "Python 3",
   "language": "python",
   "name": "python3"
  },
  "language_info": {
   "codemirror_mode": {
    "name": "ipython",
    "version": 3
   },
   "file_extension": ".py",
   "mimetype": "text/x-python",
   "name": "python",
   "nbconvert_exporter": "python",
   "pygments_lexer": "ipython3",
   "version": "3.6.0"
  }
 },
 "nbformat": 4,
 "nbformat_minor": 2
}
