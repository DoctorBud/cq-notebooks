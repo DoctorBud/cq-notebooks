{
 "cells": [
  {
   "cell_type": "code",
   "execution_count": 1,
   "metadata": {
    "collapsed": true
   },
   "outputs": [],
   "source": [
    "# Import Green Translator API\n",
    "import pprint\n",
    "from greentranslator.api import GreenTranslator\n",
    "green = GreenTranslator ()"
   ]
  },
  {
   "cell_type": "code",
   "execution_count": 4,
   "metadata": {
    "collapsed": false
   },
   "outputs": [
    {
     "name": "stdout",
     "output_type": "stream",
     "text": [
      "[{'end_time': datetime.datetime(2010, 1, 7, 23, 0, tzinfo=tzutc()),\n",
      " 'exposure_type': 'pm25',\n",
      " 'latitude': '35.9131996',\n",
      " 'longitude': '-79.0558445',\n",
      " 'start_time': datetime.datetime(2010, 1, 7, 0, 0, tzinfo=tzutc()),\n",
      " 'units': '7dayrisk',\n",
      " 'value': '4.714285714285714'},\n",
      " {'end_time': datetime.datetime(2010, 1, 8, 23, 0, tzinfo=tzutc()),\n",
      " 'exposure_type': 'pm25',\n",
      " 'latitude': '35.9131996',\n",
      " 'longitude': '-79.0558445',\n",
      " 'start_time': datetime.datetime(2010, 1, 8, 0, 0, tzinfo=tzutc()),\n",
      " 'units': '7dayrisk',\n",
      " 'value': '4.714285714285714'}]\n"
     ]
    }
   ],
   "source": [
    "# We'll use the Environmental Exposures endpoint to address the second part of the question:\n",
    "#  > ... is exposure to particulate matter <=2.5 micrometers in diameter (PM2.5) \n",
    "#    and ozone associated with responsiveness to treatment?\n",
    "exposures = green.exposures. \\\n",
    "                 get_scores (exposure_type = 'pm25',\n",
    "                             start_date = '2010-01-07',\n",
    "                             end_date = '2010-01-31',\n",
    "                             exposure_point = '35.9131996,-79.0558445')\n",
    "pprint.pprint (exposures[:2])"
   ]
  },
  {
   "cell_type": "code",
   "execution_count": null,
   "metadata": {
    "collapsed": true
   },
   "outputs": [],
   "source": []
  }
 ],
 "metadata": {
  "kernelspec": {
   "display_name": "Python 3",
   "language": "python",
   "name": "python3"
  },
  "language_info": {
   "codemirror_mode": {
    "name": "ipython",
    "version": 3
   },
   "file_extension": ".py",
   "mimetype": "text/x-python",
   "name": "python",
   "nbconvert_exporter": "python",
   "pygments_lexer": "ipython3",
   "version": "3.6.0"
  }
 },
 "nbformat": 4,
 "nbformat_minor": 2
}
