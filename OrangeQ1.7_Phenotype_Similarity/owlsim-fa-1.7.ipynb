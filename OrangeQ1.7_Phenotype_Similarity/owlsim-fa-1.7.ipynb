{
 "cells": [
  {
   "cell_type": "markdown",
   "metadata": {},
   "source": [
    "## Orange Team CQ#1.7\n",
    "\n",
    "### Query: \n",
    "What genes show high phenotypic similarity to the 11 Fanconi Anemia core complex genes (set FA-core)?\n",
    "\n",
    "### Services:\n",
    "BioLink API (Monarch) - https://api.monarchinitiative.org/api/\n",
    "Owlsim - http://owlsim3.monarchinitiative.org/api/docs/\n",
    "\n",
    "### Approach:\n",
    "As a start we will get all human gene - human gene sim scores, this notebook can be adjusted\n",
    "to search for model organism genes instead"
   ]
  },
  {
   "cell_type": "code",
   "execution_count": 1,
   "metadata": {},
   "outputs": [
    {
     "name": "stdout",
     "output_type": "stream",
     "text": [
      "['EFO:0003924', 'EFO:0003963', 'HP:0000010', 'HP:0000027', 'HP:0000028']\n"
     ]
    }
   ],
   "source": [
    "import biolink_client\n",
    "from biolink_client.api_client import ApiClient\n",
    "from biolink_client.rest import ApiException\n",
    "import requests\n",
    "import pandas as pd\n",
    "from pprint import pprint\n",
    "\n",
    "MONARCH_API = \"https://api.monarchinitiative.org/api\"\n",
    "OWLSIM_API = \"http://owlsim3.monarchinitiative.org/api\"\n",
    "\n",
    "gene_list = \"https://raw.githubusercontent.com/NCATS-Tangerine/cq-notebooks/\" \\\n",
    "            \"master/OrangeQ1.5_Regulatory_Motif_Signature/FA_NCBIGene_symbol.txt\"\n",
    "\n",
    "client = ApiClient(host=MONARCH_API)\n",
    "client.set_default_header('Content-Type', 'text/plain')\n",
    "api_instance = biolink_client.BioentityApi(client)\n",
    "\n",
    "# Get the gene list from github\n",
    "dataframe = pd.read_csv(gene_list, sep='\\t', names=['gene_id', 'symbol'])\n",
    "df = dataframe.set_index('symbol')\n",
    "gene_hpo_map = dict()\n",
    "\n",
    "for index, row in df.iterrows():\n",
    "    api_response = api_instance.get_gene_phenotype_associations(row['gene_id'], rows=500)\n",
    "    # TODO add facet_counts to AssociationResults model\n",
    "    # TODO use facet_counts to check the gene does not have >500 phenotypes\n",
    "    # TODO or better, add pagination\n",
    "    gene_hpo_map[row['gene_id']] = api_response.objects\n",
    "\n",
    "# Get the first five phenotypes for FANCA\n",
    "pprint(gene_hpo_map[df.at['FANCA', 'gene_id']][0:5])"
   ]
  },
  {
   "cell_type": "code",
   "execution_count": 3,
   "metadata": {},
   "outputs": [
    {
     "name": "stdout",
     "output_type": "stream",
     "text": [
      "       query_gene query_symbol      match_gene match_symbol   sim_score\n",
      "0   NCBIGene:2175        FANCA   NCBIGene:2175        FANCA  100.000000\n",
      "1   NCBIGene:2175        FANCA   NCBIGene:2176        FANCC   98.139284\n",
      "2   NCBIGene:2175        FANCA   NCBIGene:2177       FANCD2   98.139284\n",
      "3   NCBIGene:2175        FANCA   NCBIGene:2178        FANCE   98.139284\n",
      "4   NCBIGene:2175        FANCA  NCBIGene:55215        FANCI   90.985447\n",
      "5   NCBIGene:2175        FANCA  NCBIGene:83990        BRIP1   90.690054\n",
      "6   NCBIGene:2175        FANCA  NCBIGene:10459       MAD2L2   89.852884\n",
      "7   NCBIGene:2175        FANCA  NCBIGene:57697        FANCM   89.852884\n",
      "8   NCBIGene:2175        FANCA   NCBIGene:2188        FANCF   89.852884\n",
      "9   NCBIGene:2175        FANCA   NCBIGene:2189        FANCG   89.852884\n",
      "10  NCBIGene:2175        FANCA   NCBIGene:7516        XRCC2   89.852884\n",
      "11  NCBIGene:2175        FANCA  NCBIGene:84464         SLX4   89.785415\n",
      "12  NCBIGene:2175        FANCA   NCBIGene:5888        RAD51   89.703303\n",
      "13  NCBIGene:2175        FANCA  NCBIGene:29089        UBE2T   89.703303\n",
      "14  NCBIGene:2175        FANCA  NCBIGene:79728        PALB2   89.618837\n",
      "15  NCBIGene:2175        FANCA   NCBIGene:2187        FANCB   89.610702\n",
      "16  NCBIGene:2175        FANCA   NCBIGene:5889       RAD51C   89.490906\n",
      "17  NCBIGene:2175        FANCA  NCBIGene:55120        FANCL   89.152347\n",
      "18  NCBIGene:2175        FANCA    NCBIGene:675        BRCA2   81.751789\n",
      "19  NCBIGene:2175        FANCA   NCBIGene:2072        ERCC4   80.027314\n"
     ]
    }
   ],
   "source": [
    "# Search for top human genes\n",
    "# TODO implement prefix or taxon+type filters in owlsim\n",
    "# TODO fix cutoff filter\n",
    "\n",
    "# Use phenodigm algorithm, with a cutoff of 70/100\n",
    "matcher = 'phenodigm'\n",
    "score_cutoff = 70\n",
    "\n",
    "result_set = []\n",
    "\n",
    "\n",
    "for index, row in df.iterrows():\n",
    "    params = {\n",
    "        'id': gene_hpo_map[row['gene_id']]\n",
    "    }\n",
    "    url = \"{}/match/{}\".format(OWLSIM_API, matcher)\n",
    "    req = requests.get(url, params=params)\n",
    "    owlsim_results = req.json()\n",
    "    for match in owlsim_results['matches']:\n",
    "        try:\n",
    "            if match['matchId'].startswith(\"NCBIGene\")\\\n",
    "                    and match['rawScore'] >= score_cutoff:\n",
    "                result = [row['gene_id'],index, match['matchId'],\n",
    "                          match['matchLabel'], match['rawScore']]\n",
    "                result_set.append(result)\n",
    "        except TypeError as e:\n",
    "            # TypeError when score is NaN\n",
    "            #print(e)\n",
    "            #print(match)\n",
    "            continue\n",
    "    if index == 'FANCA':\n",
    "        break\n",
    "\n",
    "\n",
    "# Create a table of query gene, matched gene, and sim score\n",
    "column_names = ['query_gene', 'query_symbol', 'match_gene', 'match_symbol', 'sim_score']\n",
    "result_frame = pd.DataFrame(data=result_set, columns=column_names)\n",
    "\n",
    "# Get sim scores for FANCA\n",
    "df = result_frame.loc[result_frame['query_symbol'] == 'FANCA']\n",
    "\n",
    "print(df)"
   ]
  },
  {
   "cell_type": "code",
   "execution_count": null,
   "metadata": {
    "collapsed": true
   },
   "outputs": [],
   "source": []
  }
 ],
 "metadata": {
  "kernelspec": {
   "display_name": "Python 3",
   "language": "python",
   "name": "python3"
  },
  "language_info": {
   "codemirror_mode": {
    "name": "ipython",
    "version": 3
   },
   "file_extension": ".py",
   "mimetype": "text/x-python",
   "name": "python",
   "nbconvert_exporter": "python",
   "pygments_lexer": "ipython3",
   "version": "3.5.2"
  }
 },
 "nbformat": 4,
 "nbformat_minor": 2
}
