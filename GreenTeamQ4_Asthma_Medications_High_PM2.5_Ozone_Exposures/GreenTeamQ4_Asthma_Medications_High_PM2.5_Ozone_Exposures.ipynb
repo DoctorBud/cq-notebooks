{
 "cells": [
  {
   "cell_type": "code",
   "execution_count": 1,
   "metadata": {
    "collapsed": true
   },
   "outputs": [],
   "source": [
    "# Import Green Translator API\n",
    "import pprint\n",
    "from greentranslator.api import GreenTranslator\n",
    "green = GreenTranslator ()"
   ]
  },
  {
   "cell_type": "code",
   "execution_count": null,
   "metadata": {
    "collapsed": true
   },
   "outputs": [],
   "source": [
    "# Question 4: Which medications are currently prescribed to pediatric patients with an asthma-like phenotype\n",
    "#             who are responsive to treatment despite high levels of exposure to particulate matter <=2.5 \n",
    "#             micrometers in diameter (PM2.5) and ozone?\n",
    "\n",
    "# TODO: \n",
    "# Use clinical API to determine medications prescribed wrt phenotype/responsiveness criteria.\n",
    "\n",
    "exposures = green.exposures. \\\n",
    "                 get_scores (exposure_type = 'pm25',\n",
    "                             start_date = '2010-01-07',\n",
    "                             end_date = '2010-01-31',\n",
    "                             exposure_point = '35.9131996,-79.0558445')\n",
    "pprint.pprint (exposures[:2])"
   ]
  }
 ],
 "metadata": {
  "kernelspec": {
   "display_name": "Python 3",
   "language": "python",
   "name": "python3"
  },
  "language_info": {
   "codemirror_mode": {
    "name": "ipython",
    "version": 3
   },
   "file_extension": ".py",
   "mimetype": "text/x-python",
   "name": "python",
   "nbconvert_exporter": "python",
   "pygments_lexer": "ipython3",
   "version": "3.6.0"
  }
 },
 "nbformat": 4,
 "nbformat_minor": 2
}
