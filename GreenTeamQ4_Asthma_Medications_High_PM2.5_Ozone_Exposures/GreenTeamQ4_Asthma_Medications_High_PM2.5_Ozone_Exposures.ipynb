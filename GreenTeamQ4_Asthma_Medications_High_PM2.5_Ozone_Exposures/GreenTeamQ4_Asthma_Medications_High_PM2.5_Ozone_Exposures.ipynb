{
 "cells": [
  {
   "cell_type": "code",
   "execution_count": 2,
   "metadata": {
    "collapsed": true,
    "deletable": true,
    "editable": true
   },
   "outputs": [],
   "source": [
    "# Import Green Translator API\n",
    "import pprint\n",
    "from greentranslator.api import GreenTranslator\n",
    "query = GreenTranslator ().get_query ()"
   ]
  },
  {
   "cell_type": "code",
   "execution_count": 3,
   "metadata": {
    "collapsed": false,
    "deletable": true,
    "editable": true
   },
   "outputs": [
    {
     "name": "stdout",
     "output_type": "stream",
     "text": [
      "Initializing thread provenance @thread: MainThread\n",
      "[{'end_time': datetime.datetime(2010, 1, 7, 23, 0, tzinfo=tzutc()),\n",
      " 'exposure_type': 'pm25',\n",
      " 'latitude': '35.9131996',\n",
      " 'longitude': '-79.0558445',\n",
      " 'start_time': datetime.datetime(2010, 1, 7, 0, 0, tzinfo=tzutc()),\n",
      " 'units': '7dayrisk',\n",
      " 'value': '4.714285714285714'},\n",
      " {'end_time': datetime.datetime(2010, 1, 8, 23, 0, tzinfo=tzutc()),\n",
      " 'exposure_type': 'pm25',\n",
      " 'latitude': '35.9131996',\n",
      " 'longitude': '-79.0558445',\n",
      " 'start_time': datetime.datetime(2010, 1, 8, 0, 0, tzinfo=tzutc()),\n",
      " 'units': '7dayrisk',\n",
      " 'value': '4.714285714285714'}]\n"
     ]
    }
   ],
   "source": [
    "# Question 4: Which medications are currently prescribed to pediatric patients with an asthma-like phenotype\n",
    "#             who are responsive to treatment despite high levels of exposure to particulate matter <=2.5 \n",
    "#             micrometers in diameter (PM2.5) and ozone?\n",
    "\n",
    "# TODO: \n",
    "#   1. Use clinical API to determine medications prescribed wrt phenotype/responsiveness criteria.\n",
    "#   2. Correlate to exposure scores\n",
    "\n",
    "exposures = query.expo_get_scores (exposure_type = 'pm25',\n",
    "                                    start_date = '2010-01-07',\n",
    "                                    end_date = '2010-01-31',\n",
    "                                    exposure_point = '35.9131996,-79.0558445')\n",
    "pprint.pprint (exposures[:2])"
   ]
  },
  {
   "cell_type": "code",
   "execution_count": 4,
   "metadata": {
    "collapsed": false,
    "deletable": true,
    "editable": true
   },
   "outputs": [
    {
     "name": "stdout",
     "output_type": "stream",
     "text": [
      "{\n",
      "  \"prefix\": {\n",
      "    \"expo\": \"http://purl.translator.org/prov/expo\",\n",
      "    \"biochem\": \"http://purl.translator.org/prov/biochem\",\n",
      "    \"TODO\": \"http://purl.translator.org/prov/TODO\",\n",
      "    \"expo.pm25-o3\": \"http://purl.translator.org/prov/expo.pm25-o3\",\n",
      "    \"clinical.med.prescribed\": \"http://purl.translator.org/prov/clinical.med.prescribed\",\n",
      "    \"blazegraph\": \"http://purl.translator.org/prov/blazegraph\",\n",
      "    \"default\": \"http://purl.translator.org/prov/\"\n",
      "  },\n",
      "  \"activity\": {\n",
      "    \"expo_get_scores\": {\n",
      "      \"prov:startTime\": \"2017-04-29T18:45:05\",\n",
      "      \"prov:endTime\": \"2017-04-29T18:45:06\",\n",
      "      \"TODO:id\": \"http://id.org/25ee1f38-298f-4a27-a489-7ea03502c4b6\"\n",
      "    }\n",
      "  },\n",
      "  \"entity\": {\n",
      "    \"TODO:schema\": {\n",
      "      \"prov:type\": \"expo_get_scores\",\n",
      "      \"TODO:id\": \"http://id.org/25ee1f38-298f-4a27-a489-7ea03502c4b6\",\n",
      "      \"expo:score\": \"expo_get_scores((){'exposure_type': 'pm25', 'start_date': '2010-01-07', 'end_date': '2010-01-31', 'exposure_point': '35.9131996,-79.0558445'})\"\n",
      "    },\n",
      "    \"expo\": {\n",
      "      \"prov:type\": \"expo\",\n",
      "      \"src\": \"expo\",\n",
      "      \"TODO:id\": \"http://id.org/25ee1f38-298f-4a27-a489-7ea03502c4b6\"\n",
      "    }\n",
      "  }\n",
      "}\n"
     ]
    }
   ],
   "source": [
    "print (query.prov_json ())"
   ]
  },
  {
   "cell_type": "code",
   "execution_count": null,
   "metadata": {
    "collapsed": true
   },
   "outputs": [],
   "source": []
  }
 ],
 "metadata": {
  "kernelspec": {
   "display_name": "Python 3",
   "language": "python",
   "name": "python3"
  },
  "language_info": {
   "codemirror_mode": {
    "name": "ipython",
    "version": 3
   },
   "file_extension": ".py",
   "mimetype": "text/x-python",
   "name": "python",
   "nbconvert_exporter": "python",
   "pygments_lexer": "ipython3",
   "version": "3.6.0"
  }
 },
 "nbformat": 4,
 "nbformat_minor": 2
}
