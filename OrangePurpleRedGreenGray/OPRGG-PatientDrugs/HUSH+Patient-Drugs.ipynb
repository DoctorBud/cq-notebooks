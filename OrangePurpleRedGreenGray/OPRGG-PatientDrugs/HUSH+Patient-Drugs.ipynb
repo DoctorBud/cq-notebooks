{
 "cells": [
  {
   "cell_type": "markdown",
   "metadata": {},
   "source": [
    "**Question: Are there differences in medications prescribed off-label in patients diagnosed with Asthma during childhood vs during adulthood?**\n",
    "* Find age of diagosis for Asthma patients\n",
    "* Find medications (and RxNorm codes for meds) taken by Asthma patients\n",
    "* Find all diagnoses of Asthma patients\n",
    "* Classify medications taken by each patient as on- or off- label drug use\n",
    "* Find medication classes for medications taken by Asthma patients\n",
    "* Compare medication classes taken by patients diagosed with Asthma during childhood vs during adulthood"
   ]
  },
  {
   "cell_type": "code",
   "execution_count": 10,
   "metadata": {
    "collapsed": true
   },
   "outputs": [],
   "source": [
    "## All the imports we need\n",
    "from urllib2 import Request, urlopen, URLError\n",
    "from urllib import quote_plus\n",
    "\n",
    "import mysql.connector\n",
    "\n",
    "import pprint, json, requests\n",
    "\n",
    "from datetime import datetime, timedelta\n",
    "from dateutil.parser import parse as parse_date\n",
    "from greentranslator.api import GreenTranslator\n",
    "\n",
    "import dateutil"
   ]
  },
  {
   "cell_type": "markdown",
   "metadata": {},
   "source": [
    "**Step 1: Find patients diagnosed with Asthma as a child (Group 1)**"
   ]
  },
  {
   "cell_type": "code",
   "execution_count": 11,
   "metadata": {},
   "outputs": [
    {
     "name": "stdout",
     "output_type": "stream",
     "text": [
      "Initializing thread provenance @thread: MainThread\n"
     ]
    }
   ],
   "source": [
    "## Find HUSH+ patients matching a list of ICD codes as children\n",
    "\n",
    "query = GreenTranslator ().get_query ()\n",
    "\n",
    "HUSHplusChildren = query.clinical_get_patients (age='8', sex='male', \n",
    "                                        race='white', location='OUTPATIENT')\n",
    "##pprint.pprint (HUSHpluspatients)"
   ]
  },
  {
   "cell_type": "markdown",
   "metadata": {},
   "source": [
    "**Step 2: Find patients diagnosed with Asthma as an adult (Group 2)**"
   ]
  },
  {
   "cell_type": "code",
   "execution_count": 12,
   "metadata": {
    "collapsed": true
   },
   "outputs": [],
   "source": [
    "## Find HUSH+ patients matching a list of ICD codes as adults\n",
    "\n",
    "query = GreenTranslator ().get_query ()\n",
    "\n",
    "HUSHplusAdults = query.clinical_get_patients (age='8', sex='male', \n",
    "                                        race='white', location='OUTPATIENT')\n",
    "##pprint.pprint (HUSHpluspatients)"
   ]
  },
  {
   "cell_type": "markdown",
   "metadata": {},
   "source": [
    "** Step 3: Find medications for patients in Group 1 and Group 2 **"
   ]
  },
  {
   "cell_type": "code",
   "execution_count": 14,
   "metadata": {},
   "outputs": [
    {
     "name": "stdout",
     "output_type": "stream",
     "text": [
      "{None: 4,\n",
      " u'24 HR Methylphenidate Hydrochloride 10 MG Extended Release Oral Capsule [Ritalin]': 1,\n",
      " u'ACYCLOVIR 5 % TOPICAL OINTMENT': 1,\n",
      " u'ALBUTEROL SULFATE 2.5 MG/3 ML (0.083 %) SOLUTION FOR NEBULIZATION': 3,\n",
      " u'ALBUTEROL SULFATE HFA 90 MCG/ACTUATION AEROSOL INHALER': 7,\n",
      " u'AUGMENTIN ES-600 SUSPENSION': 3,\n",
      " u'AZITHROMYCIN 250 MG TABLET': 1,\n",
      " u'Acetaminophen 21.7 MG/ML / Hydrocodone Bitartrate 0.5 MG/ML Oral Solution': 1,\n",
      " u'Acetaminophen 32 MG/ML Oral Suspension': 1,\n",
      " u'Albuterol 0.83 MG/ML Inhalant Solution': 2,\n",
      " u'Amoxicillin 120 MG/ML / Clavulanate 8.58 MG/ML Oral Suspension': 2,\n",
      " u'Amoxicillin 80 MG/ML Oral Suspension': 8,\n",
      " u'Antipyrine 54 MG/ML / Benzocaine 14 MG/ML Otic Solution': 1,\n",
      " u'Azithromycin 40 MG/ML Oral Suspension': 10,\n",
      " u'BACTROBAN 2% OINTMENT': 1,\n",
      " u'BECLOMETHASONE DIPROPIONATE 40 MCG/ACTUATION AEROSOL INHALER': 3,\n",
      " u'CLARITHROMYCIN 250 MG TABLET': 1,\n",
      " u'CLEOCIN 75 MG/5 ML GRANULES': 1,\n",
      " u'CLONIDINE HCL ER 0.1 MG TABLET,EXTENDED RELEASE,12 HR': 4,\n",
      " u'CONCERTA ER 18 MG TABLET': 4,\n",
      " u'CONCERTA ER 27 MG TABLET': 2,\n",
      " u'Calcium Chloride 0.0014 MEQ/ML / Potassium Chloride 0.004 MEQ/ML / Sodium Chloride 0.103 MEQ/ML / Sodium Lactate 0.028 MEQ/ML Injectable Solution': 3,\n",
      " u'Cephalexin 50 MG/ML Oral Suspension': 3,\n",
      " u'Clindamycin 150 MG Oral Capsule': 1,\n",
      " u'Clonidine Hydrochloride 0.1 MG Oral Tablet': 2,\n",
      " u'DAYTRANA 10 MG/9 HR PATCH': 1,\n",
      " u'Dexamethasone': 1,\n",
      " u'Dextroamphetamine saccharate': 22,\n",
      " u'Diphenhydramine Hydrochloride 25 MG Oral Capsule': 1,\n",
      " u'EPINEPHRINE 0.15 MG/0.3 ML (1:2,000) INJECTION,AUTO-INJECTOR': 1,\n",
      " u'ESOMEPRAZOLE MAGNESIUM 40 MG CAPSULE,DELAYED RELEASE': 1,\n",
      " u'FLUTICASONE 50 MCG/ACTUATION NASAL SPRAY,SUSPENSION': 1,\n",
      " u'FOCALIN XR 5 MG CAPSULE': 1,\n",
      " u'Glucose 50 MG/ML / Sodium Chloride 0.154 MEQ/ML Injectable Solution': 2,\n",
      " u'HYDROCODONE 7.5 MG-ACETAMINOPHEN 500 MG/15 ML ORAL SOLUTION': 1,\n",
      " u'INTUNIV ER 1 MG TABLET': 1,\n",
      " u'KETOROLAC 30 MG/ML (1 ML) INJECTION SOLUTION': 1,\n",
      " u'MELATONIN 1 MG TABLET': 1,\n",
      " u'METHYLPHENIDATE ER 27 MG TABLET,EXTENDED RELEASE 24 HR': 18,\n",
      " u'METHYLPHENIDATE ER 54 MG TABLET,EXTENDED RELEASE 24 HR': 7,\n",
      " u'Methylphenidate Hydrochloride 10 MG Oral Tablet': 1,\n",
      " u'Morphine Sulfate': 1,\n",
      " u'Mupirocin 0.02 MG/MG Topical Ointment': 1,\n",
      " u'NEOSTIGMINE METHYLSULFATE 0.5 MG/ML INJECTION SOLUTION': 1,\n",
      " u'Nystatin 100000 UNT/ML Topical Cream': 1,\n",
      " u'OMNICEF 250 MG/5 ML SUSPENSION': 3,\n",
      " u'ONDANSETRON 4 MG DISINTEGRATING TABLET': 2,\n",
      " u'ORAPRED 15 MG/5 ML SOLUTION': 5,\n",
      " u'Ofloxacin 3 MG/ML Otic Solution': 1,\n",
      " u'Oseltamivir 30 MG Oral Capsule': 1,\n",
      " u'PENICILLIN V POTASSIUM 250 MG TABLET': 1,\n",
      " u'PERMETHRIN 5 % TOPICAL CREAM': 1,\n",
      " u'POLYETHYLENE GLYCOL 3350 142 MG/ML Oral Solution': 1,\n",
      " u'POLYTRIM EYE DROPS': 2,\n",
      " u'PREDNISOLONE SODIUM PHOSPHATE 15 MG/5 ML ORAL SOLUTION': 3,\n",
      " u'PROAIR HFA 90 MCG INHALER': 2,\n",
      " u'PROZAC 10 MG PULVULE': 1,\n",
      " u'PULMICORT 0.5 MG/2 ML RESPULE': 1,\n",
      " u'Permethrin 50 MG/ML Topical Cream': 1,\n",
      " u'Polymyxin B': 1,\n",
      " u'QVAR 40 MCG ORAL INHALER': 1,\n",
      " u'RITALIN 10 MG TABLET': 3,\n",
      " u'SERTRALINE 25 MG TABLET': 6,\n",
      " u'STRATTERA 10 MG CAPSULE': 3,\n",
      " u'SUPRAX 200 MG/5 ML SUSPENSION': 1,\n",
      " u'TRIAMCINOLONE ACETONIDE 0.1 % TOPICAL OINTMENT': 1,\n",
      " u'Trazodone Hydrochloride 50 MG Oral Tablet': 1,\n",
      " u'Triamcinolone Acetonide 1 MG/ML Topical Cream': 2,\n",
      " u'VENTOLIN HFA 90 MCG/ACTUATION AEROSOL INHALER': 1,\n",
      " u'VYVANSE 20 MG CAPSULE': 2,\n",
      " u'VYVANSE 40 MG CAPSULE': 1,\n",
      " u'ZITHROMAX 200 MG/5 ML SUSP': 2,\n",
      " u'ZOFRAN 4 MG/5 ML ORAL SOLN': 1,\n",
      " u'atomoxetine 10 MG Oral Capsule': 4,\n",
      " u'cefdinir 50 MG/ML Oral Suspension': 5,\n",
      " u'cefprozil 50 MG/ML Oral Suspension': 1,\n",
      " u'clavulanate potassium': 6,\n",
      " u'lisdexamfetamine dimesylate 50 MG Oral Capsule': 1,\n",
      " u'lisdexamfetamine dimesylate 60 MG Oral Capsule': 1,\n",
      " u'moxifloxacin 5 MG/ML Ophthalmic Solution': 3}\n"
     ]
    }
   ],
   "source": [
    "## Pull meds for HUSH+ patients\n",
    "meds = {}\n",
    "for x in HUSHplusChildren:\n",
    "    medList = x['medList']\n",
    "    # Collect the unique meds\n",
    "    for m in medList.keys():\n",
    "        found = False\n",
    "        try:\n",
    "            meds[medList[m]] = meds[medList[m]]+1\n",
    "        except KeyError:\n",
    "            meds[medList[m]] = 1\n",
    "pprint.pprint(meds)"
   ]
  },
  {
   "cell_type": "markdown",
   "metadata": {},
   "source": [
    "** Step 4: Find RxNorm codes for meds prescribed in patients from Group 1 and Group 2 **"
   ]
  },
  {
   "cell_type": "code",
   "execution_count": 3,
   "metadata": {},
   "outputs": [
    {
     "name": "stdout",
     "output_type": "stream",
     "text": [
      "[u'CLINDAMYCIN 15 MG/ML ORAL SOLUTION', u'CLINDAMYCIN 15 MG/ML', u'CLINDAMYCIN', u'ORAL SOLUTION']\n"
     ]
    }
   ],
   "source": [
    "## For a given medication string get NCBO annotations\n",
    "## We let NCBO match any ontology since just using RxNORM doesn't\n",
    "## always give us just the drug name (e.g., \"CLINDAMYCIN 15 MG/ML ORAL SOLUTION\" is\n",
    "## a valid RxNORM term)\n",
    "def med2rxnorm(txt):\n",
    "    url = 'http://data.bioontology.org/annotator?text=%s&apikey=b792dd1b-cdc2-4cc8-aaf2-4fa4fbf47e4e'\n",
    "    txt = urlopen(url % quote_plus(txt)).read()\n",
    "    resp = json.loads(txt)\n",
    "    if len(resp) == 0: return([])\n",
    "    annos = []\n",
    "    for aresp in resp:\n",
    "        annos.extend([ x['text'] for x in aresp['annotations'] ])\n",
    "    ##annos = filter(lambda x: not any(d in x for d in'0123456789'), annos)\n",
    "    return(annos)\n",
    "print med2rxnorm(\"CLINDAMYCIN 15 MG/ML ORAL SOLUTION\")        "
   ]
  },
  {
   "cell_type": "code",
   "execution_count": 17,
   "metadata": {},
   "outputs": [
    {
     "name": "stdout",
     "output_type": "stream",
     "text": [
      "Processing TRIAMCINOLONE ACETONIDE 0.1 % TOPICAL OINTMENT and found 4 annotations\n",
      "Processing Azithromycin 40 MG/ML Oral Suspension and found 4 annotations\n",
      "Processing Trazodone Hydrochloride 50 MG Oral Tablet and found 5 annotations\n",
      "Processing CONCERTA ER 27 MG TABLET and found 1 annotations\n",
      "Processing NEOSTIGMINE METHYLSULFATE 0.5 MG/ML INJECTION SOLUTION and found 4 annotations\n",
      "Processing CONCERTA ER 18 MG TABLET and found 1 annotations\n",
      "Processing moxifloxacin 5 MG/ML Ophthalmic Solution and found 4 annotations\n",
      "Processing BECLOMETHASONE DIPROPIONATE 40 MCG/ACTUATION AEROSOL INHALER and found 3 annotations\n",
      "Processing Ofloxacin 3 MG/ML Otic Solution and found 4 annotations\n",
      "Processing Diphenhydramine Hydrochloride 25 MG Oral Capsule and found 5 annotations\n",
      "Processing Methylphenidate Hydrochloride 10 MG Oral Tablet and found 5 annotations\n",
      "Processing ALBUTEROL SULFATE HFA 90 MCG/ACTUATION AEROSOL INHALER and found 3 annotations\n",
      "Processing PROAIR HFA 90 MCG INHALER and found 1 annotations\n",
      "Processing ACYCLOVIR 5 % TOPICAL OINTMENT and found 3 annotations\n",
      "Processing ALBUTEROL SULFATE 2.5 MG/3 ML (0.083 %) SOLUTION FOR NEBULIZATION and found 2 annotations\n",
      "Processing Dextroamphetamine saccharate and found 3 annotations\n",
      "Processing FLUTICASONE 50 MCG/ACTUATION NASAL SPRAY,SUSPENSION and found 2 annotations\n",
      "Processing POLYTRIM EYE DROPS and found 2 annotations\n",
      "Processing Nystatin 100000 UNT/ML Topical Cream and found 5 annotations\n",
      "Processing Calcium Chloride 0.0014 MEQ/ML / Potassium Chloride 0.004 MEQ/ML / Sodium Chloride 0.103 MEQ/ML / Sodium Lactate 0.028 MEQ/ML Injectable Solution and found 15 annotations\n",
      "Processing QVAR 40 MCG ORAL INHALER and found 1 annotations\n",
      "Processing Morphine Sulfate and found 2 annotations\n",
      "Processing ONDANSETRON 4 MG DISINTEGRATING TABLET and found 2 annotations\n",
      "Processing METHYLPHENIDATE ER 27 MG TABLET,EXTENDED RELEASE 24 HR and found 1 annotations\n",
      "Processing Oseltamivir 30 MG Oral Capsule and found 4 annotations\n",
      "Processing VYVANSE 40 MG CAPSULE and found 1 annotations\n",
      "Processing MELATONIN 1 MG TABLET and found 2 annotations\n",
      "Processing atomoxetine 10 MG Oral Capsule and found 4 annotations\n",
      "Processing Cephalexin 50 MG/ML Oral Suspension and found 4 annotations\n",
      "Processing VENTOLIN HFA 90 MCG/ACTUATION AEROSOL INHALER and found 2 annotations\n",
      "Processing FOCALIN XR 5 MG CAPSULE and found 1 annotations\n",
      "Processing Amoxicillin 80 MG/ML Oral Suspension and found 4 annotations\n",
      "Processing BACTROBAN 2% OINTMENT and found 1 annotations\n",
      "Processing METHYLPHENIDATE ER 54 MG TABLET,EXTENDED RELEASE 24 HR and found 1 annotations\n",
      "Processing PENICILLIN V POTASSIUM 250 MG TABLET and found 5 annotations\n",
      "Processing Permethrin 50 MG/ML Topical Cream and found 4 annotations\n",
      "Processing Dexamethasone and found 1 annotations\n",
      "Processing ESOMEPRAZOLE MAGNESIUM 40 MG CAPSULE,DELAYED RELEASE and found 3 annotations\n",
      "Processing PROZAC 10 MG PULVULE and found 1 annotations\n",
      "Processing CLONIDINE HCL ER 0.1 MG TABLET,EXTENDED RELEASE,12 HR and found 1 annotations\n",
      "Processing Albuterol 0.83 MG/ML Inhalant Solution and found 4 annotations\n",
      "Processing 24 HR Methylphenidate Hydrochloride 10 MG Extended Release Oral Capsule [Ritalin] and found 6 annotations\n",
      "Processing STRATTERA 10 MG CAPSULE and found 1 annotations\n",
      "Processing clavulanate potassium and found 3 annotations\n",
      "Processing lisdexamfetamine dimesylate 60 MG Oral Capsule and found 5 annotations\n",
      "Processing Clindamycin 150 MG Oral Capsule and found 4 annotations\n",
      "Processing KETOROLAC 30 MG/ML (1 ML) INJECTION SOLUTION and found 2 annotations\n",
      "Processing cefprozil 50 MG/ML Oral Suspension and found 4 annotations\n",
      "Processing PULMICORT 0.5 MG/2 ML RESPULE and found 1 annotations\n",
      "Processing DAYTRANA 10 MG/9 HR PATCH and found 1 annotations\n",
      "Processing Amoxicillin 120 MG/ML / Clavulanate 8.58 MG/ML Oral Suspension and found 6 annotations\n",
      "Processing HYDROCODONE 7.5 MG-ACETAMINOPHEN 500 MG/15 ML ORAL SOLUTION and found 4 annotations\n",
      "Processing AUGMENTIN ES-600 SUSPENSION and found 1 annotations\n",
      "Processing Antipyrine 54 MG/ML / Benzocaine 14 MG/ML Otic Solution and found 6 annotations\n",
      "Processing POLYETHYLENE GLYCOL 3350 142 MG/ML Oral Solution and found 4 annotations\n",
      "Processing Acetaminophen 21.7 MG/ML / Hydrocodone Bitartrate 0.5 MG/ML Oral Solution and found 7 annotations\n",
      "Processing CLARITHROMYCIN 250 MG TABLET and found 2 annotations\n",
      "Processing PREDNISOLONE SODIUM PHOSPHATE 15 MG/5 ML ORAL SOLUTION and found 5 annotations\n",
      "Processing ZOFRAN 4 MG/5 ML ORAL SOLN and found 1 annotations\n",
      "Processing cefdinir 50 MG/ML Oral Suspension and found 4 annotations\n",
      "Processing AZITHROMYCIN 250 MG TABLET and found 2 annotations\n",
      "Processing ZITHROMAX 200 MG/5 ML SUSP and found 1 annotations\n",
      "Processing OMNICEF 250 MG/5 ML SUSPENSION and found 1 annotations\n",
      "Processing Glucose 50 MG/ML / Sodium Chloride 0.154 MEQ/ML Injectable Solution and found 7 annotations\n",
      "Processing EPINEPHRINE 0.15 MG/0.3 ML (1:2,000) INJECTION,AUTO-INJECTOR and found 3 annotations\n",
      "Processing Polymyxin B and found 1 annotations\n",
      "Processing SUPRAX 200 MG/5 ML SUSPENSION and found 1 annotations\n",
      "Processing Triamcinolone Acetonide 1 MG/ML Topical Cream and found 5 annotations\n",
      "Processing Clonidine Hydrochloride 0.1 MG Oral Tablet and found 5 annotations\n",
      "Processing Mupirocin 0.02 MG/MG Topical Ointment and found 4 annotations\n",
      "Processing SERTRALINE 25 MG TABLET and found 2 annotations\n",
      "Processing RITALIN 10 MG TABLET and found 1 annotations\n",
      "Processing lisdexamfetamine dimesylate 50 MG Oral Capsule and found 5 annotations\n",
      "Processing ORAPRED 15 MG/5 ML SOLUTION and found 1 annotations\n",
      "Processing PERMETHRIN 5 % TOPICAL CREAM and found 3 annotations\n",
      "Processing INTUNIV ER 1 MG TABLET and found 1 annotations\n",
      "Processing VYVANSE 20 MG CAPSULE and found 1 annotations\n",
      "Processing Acetaminophen 32 MG/ML Oral Suspension and found 4 annotations\n",
      "Processing CLEOCIN 75 MG/5 ML GRANULES and found 1 annotations\n"
     ]
    }
   ],
   "source": [
    "## Get RxNORM codes for medication strings\n",
    "medrxnorm = {}\n",
    "for med in meds.keys():\n",
    "    if med is None: continue    \n",
    "    annos = med2rxnorm(med)\n",
    "    print 'Processing %s and found %d annotations' % (med, len(annos))\n",
    "    medrxnorm[med] = {'count':meds[med], 'annos':annos}    "
   ]
  },
  {
   "cell_type": "markdown",
   "metadata": {},
   "source": [
    "** Step 5: Find all indications (as ICD-10 codes) for any of the drugs prescribed in patients from Group 1 and Group 2 **"
   ]
  },
  {
   "cell_type": "code",
   "execution_count": 15,
   "metadata": {
    "collapsed": true
   },
   "outputs": [],
   "source": [
    "## Given a drug (identified by RXNORM), get conditions that the drug has a \n",
    "## status (approved, phase 3) for, via NDK API\n",
    "def drug2conditions(drug):\n",
    "    import urllib\n",
    "    url = \"https://tripod.nih.gov/ndk/treatment/%s/conditions\" % (drug)\n",
    "    page = urllib.urlopen(url).read().strip()\n",
    "    if page == \"\": return []\n",
    "    resp = json.loads(page)\n",
    "    conds = []\n",
    "    for aresp in resp:\n",
    "        condname = aresp['name']\n",
    "        if 'ICD10' in aresp.keys():\n",
    "            condicd10 = aresp['ICD10']\n",
    "        else: condicd10 = []\n",
    "        conds.append( (aresp['status'], condname, condicd10) )\n",
    "    return(conds)"
   ]
  },
  {
   "cell_type": "code",
   "execution_count": 18,
   "metadata": {},
   "outputs": [
    {
     "name": "stdout",
     "output_type": "stream",
     "text": [
      "## Methylphenidate Hydrochloride 10 MG Oral Tablet ## [(u'Approved', u'Attention-deficit hyperactivity disorders', [u'F90']), (u'Approved', u'Syndrome', []), (u'Approved', u'Narcolepsy', [u'G47.41']), (u'Approved', u'Emotional lability', [u'R45.86']), (u'Approved', u'Developmental disorder of scholastic skills, unspecified', [u'F81.9']), (u'Approved', u'CHILD syndrome', []), (u'Approved', u'Mental disorder, not otherwise specified', [u'F99']), (u'Approved', u'Child', []), (u'Approved', u'Brief reactive psychosis', []), (u'Phase 4', u'Healthy', []), (u'Phase 4', u'Attention-deficit hyperactivity disorders', [u'F90']), (u'Phase 4', u'Dementia', []), (u'Phase 4', u'Attention-deficit/Hyperactivity Disorder', []), (u'Phase 4', u'Intracranial injury', [u'S06']), (u'Phase 4', u'Epilepsy', []), (u'Phase 4', u'Carboxylesterase 1 (CES1) Genotype', []), (u'Phase 4', u\"Parkinson's disease\", [u'G20']), (u'Phase 4', u'Oppositional defiant disorder', [u'F91.3']), (u'Phase 4', u'Attention Deficit/Hyperactivity Disorder', []), (u'Phase 4', u\"Alzheimer's disease\", [u'G30'])]\n"
     ]
    }
   ],
   "source": [
    "keys = list(medrxnorm.keys())\n",
    "n = 10\n",
    "annos = medrxnorm[keys[n]]['annos']\n",
    "conds = []\n",
    "for anno in annos:\n",
    "    conds.extend(drug2conditions(anno))\n",
    "print \"##\", keys[n], \"##\", conds"
   ]
  },
  {
   "cell_type": "code",
   "execution_count": 6,
   "metadata": {
    "collapsed": true
   },
   "outputs": [],
   "source": [
    "## Get ICD-10 codes for any med seen for Group 1 or Group 2"
   ]
  },
  {
   "cell_type": "markdown",
   "metadata": {},
   "source": [
    "** Step 6: Find all diagnoses of Asthma patients in Group 1 and Group 2**"
   ]
  },
  {
   "cell_type": "code",
   "execution_count": null,
   "metadata": {
    "collapsed": true
   },
   "outputs": [],
   "source": [
    "## Find all diagnoses of HUSH+ patients in Group 1\n",
    "## Find all diagnoses of HUSH+ patients in Group 2"
   ]
  },
  {
   "cell_type": "markdown",
   "metadata": {},
   "source": [
    "**Step 7: For both groups, classify medications taken by each patient as on- or off- label drug use (patient by drug matrix)**"
   ]
  },
  {
   "cell_type": "code",
   "execution_count": null,
   "metadata": {
    "collapsed": true
   },
   "outputs": [],
   "source": [
    "## Create patient by drug matrix"
   ]
  },
  {
   "cell_type": "markdown",
   "metadata": {},
   "source": [
    "** Step 8: Create patient by drug class matrix **"
   ]
  },
  {
   "cell_type": "code",
   "execution_count": null,
   "metadata": {
    "collapsed": true
   },
   "outputs": [],
   "source": [
    "## Create patient by drug class matrix"
   ]
  },
  {
   "cell_type": "markdown",
   "metadata": {},
   "source": [
    "**Step 9: Assess off-label drug use in childhood-onset vs adult-onset Asthma patients **"
   ]
  },
  {
   "cell_type": "code",
   "execution_count": 8,
   "metadata": {
    "collapsed": true
   },
   "outputs": [],
   "source": [
    "## Compare patient x drug class for Group 1 vs Group 2"
   ]
  },
  {
   "cell_type": "code",
   "execution_count": null,
   "metadata": {
    "collapsed": true
   },
   "outputs": [],
   "source": []
  }
 ],
 "metadata": {
  "kernelspec": {
   "display_name": "Python 2",
   "language": "python",
   "name": "python2"
  },
  "language_info": {
   "codemirror_mode": {
    "name": "ipython",
    "version": 2
   },
   "file_extension": ".py",
   "mimetype": "text/x-python",
   "name": "python",
   "nbconvert_exporter": "python",
   "pygments_lexer": "ipython2",
   "version": "2.7.9"
  }
 },
 "nbformat": 4,
 "nbformat_minor": 2
}
