{
 "cells": [
  {
   "cell_type": "markdown",
   "metadata": {},
   "source": [
    "**Question: Are there differences in medications prescribed off-label in patients diagnosed with Asthma during childhood vs during adulthood?**\n",
    "* Find age of diagosis for Asthma patients\n",
    "* Find medications (and RxNorm codes for meds) taken by Asthma patients\n",
    "* Find all diagnoses of Asthma patients\n",
    "* Classify medications taken by each patient as on- or off- label drug use\n",
    "* Find medication classes for medications taken by Asthma patients\n",
    "* Compare medication classes taken by patients diagosed with Asthma during childhood vs during adulthood"
   ]
  },
  {
   "cell_type": "code",
   "execution_count": 10,
   "metadata": {
    "collapsed": true
   },
   "outputs": [],
   "source": [
    "## All the imports we need\n",
    "from urllib2 import Request, urlopen, URLError\n",
    "from urllib import quote_plus\n",
    "\n",
    "import mysql.connector\n",
    "\n",
    "import pprint, json, requests\n",
    "\n",
    "from datetime import datetime, timedelta\n",
    "from dateutil.parser import parse as parse_date\n",
    "from greentranslator.api import GreenTranslator\n",
    "\n",
    "import dateutil"
   ]
  },
  {
   "cell_type": "markdown",
   "metadata": {},
   "source": [
    "**Step 1: Find patients diagnosed with Asthma as a child (Group 1)**"
   ]
  },
  {
   "cell_type": "code",
   "execution_count": 11,
   "metadata": {},
   "outputs": [
    {
     "name": "stdout",
     "output_type": "stream",
     "text": [
      "Initializing thread provenance @thread: MainThread\n"
     ]
    }
   ],
   "source": [
    "## Find HUSH+ patients matching a list of ICD codes as children\n",
    "\n",
    "query = GreenTranslator ().get_query ()\n",
    "\n",
    "HUSHplusChildren = query.clinical_get_patients (age='8', sex='male', \n",
    "                                        race='white', location='OUTPATIENT')\n",
    "##pprint.pprint (HUSHpluspatients)"
   ]
  },
  {
   "cell_type": "markdown",
   "metadata": {},
   "source": [
    "**Step 2: Find patients diagnosed with Asthma as an adult (Group 2)**"
   ]
  },
  {
   "cell_type": "code",
   "execution_count": 12,
   "metadata": {
    "collapsed": true
   },
   "outputs": [],
   "source": [
    "## Find HUSH+ patients matching a list of ICD codes as adults\n",
    "\n",
    "query = GreenTranslator ().get_query ()\n",
    "\n",
    "HUSHplusAdults = query.clinical_get_patients (age='8', sex='male', \n",
    "                                        race='white', location='OUTPATIENT')\n",
    "##pprint.pprint (HUSHpluspatients)"
   ]
  },
  {
   "cell_type": "markdown",
   "metadata": {},
   "source": [
    "** Step 3: Find medications for patients in Group 1 and Group 2 **"
   ]
  },
  {
   "cell_type": "code",
   "execution_count": 13,
   "metadata": {},
   "outputs": [],
   "source": [
    "## Pull meds for HUSH+ patients\n",
    "meds = {}\n",
    "for x in HUSHplusChildren:\n",
    "    medList = x['medList']\n",
    "    # Collect the unique meds\n",
    "    for m in medList.keys():\n",
    "        found = False\n",
    "        try:\n",
    "            meds[medList[m]] = meds[medList[m]]+1\n",
    "        except KeyError:\n",
    "            meds[medList[m]] = 1\n",
    "#pprint.pprint(meds)"
   ]
  },
  {
   "cell_type": "markdown",
   "metadata": {},
   "source": [
    "** Step 4: Find RxNorm codes for meds prescribed in patients from Group 1 and Group 2 **"
   ]
  },
  {
   "cell_type": "code",
   "execution_count": 3,
   "metadata": {},
   "outputs": [
    {
     "name": "stdout",
     "output_type": "stream",
     "text": [
      "[u'CLINDAMYCIN 15 MG/ML ORAL SOLUTION', u'CLINDAMYCIN 15 MG/ML', u'CLINDAMYCIN', u'ORAL SOLUTION']\n"
     ]
    }
   ],
   "source": [
    "## For a given medication string get NCBO annotations\n",
    "## We let NCBO match any ontology since just using RxNORM doesn't\n",
    "## always give us just the drug name (e.g., \"CLINDAMYCIN 15 MG/ML ORAL SOLUTION\" is\n",
    "## a valid RxNORM term)\n",
    "def med2rxnorm(txt):\n",
    "    url = 'http://data.bioontology.org/annotator?text=%s&apikey=b792dd1b-cdc2-4cc8-aaf2-4fa4fbf47e4e'\n",
    "    txt = urlopen(url % quote_plus(txt)).read()\n",
    "    resp = json.loads(txt)\n",
    "    if len(resp) == 0: return([])\n",
    "    annos = []\n",
    "    for aresp in resp:\n",
    "        annos.extend([ x['text'] for x in aresp['annotations'] ])\n",
    "    ##annos = filter(lambda x: not any(d in x for d in'0123456789'), annos)\n",
    "    return(annos)\n",
    "print med2rxnorm(\"CLINDAMYCIN 15 MG/ML ORAL SOLUTION\")        "
   ]
  },
  {
   "cell_type": "code",
   "execution_count": 4,
   "metadata": {
    "collapsed": true
   },
   "outputs": [],
   "source": [
    "## Get RxNORM codes for medication strings\n",
    "medrxnorm = {}\n",
    "for med in meds.keys():\n",
    "    if med is None: continue    \n",
    "    annos = med2rxnorm(med)\n",
    "    print 'Processing %s and found %d annotations' % (med, len(annos))\n",
    "    medrxnorm[med] = {'count':meds[med], 'annos':annos}    "
   ]
  },
  {
   "cell_type": "markdown",
   "metadata": {},
   "source": [
    "** Step 5: Find all indications (as ICD-10 codes) for any of the drugs prescribed in patients from Group 1 and Group 2 **"
   ]
  },
  {
   "cell_type": "code",
   "execution_count": 6,
   "metadata": {
    "collapsed": true
   },
   "outputs": [],
   "source": [
    "## Get ICD-10 codes for any med seen for Group 1 or Group 2"
   ]
  },
  {
   "cell_type": "markdown",
   "metadata": {},
   "source": [
    "** Step 6: Find all diagnoses of Asthma patients in Group 1 and Group 2**"
   ]
  },
  {
   "cell_type": "code",
   "execution_count": null,
   "metadata": {
    "collapsed": true
   },
   "outputs": [],
   "source": [
    "## Find all diagnoses of HUSH+ patients in Group 1\n",
    "## Find all diagnoses of HUSH+ patients in Group 2"
   ]
  },
  {
   "cell_type": "markdown",
   "metadata": {},
   "source": [
    "**Step 7: For both groups, classify medications taken by each patient as on- or off- label drug use (patient by drug matrix)**"
   ]
  },
  {
   "cell_type": "code",
   "execution_count": null,
   "metadata": {
    "collapsed": true
   },
   "outputs": [],
   "source": [
    "## Create patient by drug matrix"
   ]
  },
  {
   "cell_type": "markdown",
   "metadata": {},
   "source": [
    "** Step 8: Create patient by drug class matrix **"
   ]
  },
  {
   "cell_type": "code",
   "execution_count": null,
   "metadata": {
    "collapsed": true
   },
   "outputs": [],
   "source": [
    "## Create patient by drug class matrix"
   ]
  },
  {
   "cell_type": "markdown",
   "metadata": {},
   "source": [
    "**Step 9: Assess off-label drug use in childhood-onset vs adult-onset Asthma patients **"
   ]
  },
  {
   "cell_type": "code",
   "execution_count": 8,
   "metadata": {
    "collapsed": true
   },
   "outputs": [],
   "source": [
    "## Compare patient x drug class for Group 1 vs Group 2"
   ]
  },
  {
   "cell_type": "code",
   "execution_count": null,
   "metadata": {
    "collapsed": true
   },
   "outputs": [],
   "source": []
  }
 ],
 "metadata": {
  "kernelspec": {
   "display_name": "Python 2",
   "language": "python",
   "name": "python2"
  },
  "language_info": {
   "codemirror_mode": {
    "name": "ipython",
    "version": 2
   },
   "file_extension": ".py",
   "mimetype": "text/x-python",
   "name": "python",
   "nbconvert_exporter": "python",
   "pygments_lexer": "ipython2",
   "version": "2.7.9"
  }
 },
 "nbformat": 4,
 "nbformat_minor": 2
}
