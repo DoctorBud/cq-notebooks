{
 "cells": [
  {
   "cell_type": "code",
   "execution_count": 1,
   "metadata": {
    "collapsed": true,
    "deletable": true,
    "editable": true
   },
   "outputs": [],
   "source": [
    "# Import Green Translator API\n",
    "import pprint\n",
    "from greentranslator.api import GreenTranslator\n",
    "query = GreenTranslator ().get_query ()"
   ]
  },
  {
   "cell_type": "code",
   "execution_count": 2,
   "metadata": {
    "collapsed": false,
    "deletable": true,
    "editable": true
   },
   "outputs": [
    {
     "name": "stdout",
     "output_type": "stream",
     "text": [
      "Initializing thread provenance @thread: MainThread\n",
      "[{'chemical': 'http://bio2rdf.org/mesh:D052638',\n",
      "  'gene': 'http://chem2bio2rdf.org/uniprot/resource/gene/NCF1',\n",
      "  'human': True,\n",
      "  'pathID': 'hsa04062',\n",
      "  'pathName': 'path:hsa04062 Chemokine signaling pathway - Homo sapiens '\n",
      "              '(human)',\n",
      "  'pathway': 'http://chem2bio2rdf.org/kegg/resource/kegg_pathway/hsa04062'},\n",
      " {'chemical': 'http://bio2rdf.org/mesh:D052638',\n",
      "  'gene': 'http://chem2bio2rdf.org/uniprot/resource/gene/NCF1',\n",
      "  'human': True,\n",
      "  'pathID': 'hsa04062',\n",
      "  'pathName': 'path:hsa04062 Chemokine signaling pathway - Homo sapiens '\n",
      "              '(human)',\n",
      "  'pathway': 'http://chem2bio2rdf.org/kegg/resource/kegg_pathway/hsa04062'}]\n"
     ]
    }
   ],
   "source": [
    "# Question: What protein (gene) targets and biological pathways are activated or inhibited by \n",
    "#           particulate matter <=2.5 micrometers in diameter (PM2.5) and ozone exposure?\n",
    "# Note: The MeSH ID for Particulate Matter (we lose the granularity of 2.5) is D052638.\n",
    "\n",
    "pm_targets = query.get_exposure_conditions (chemicals = [ 'D052638' ])\n",
    "pprint.pprint (pm_targets[:2])"
   ]
  },
  {
   "cell_type": "code",
   "execution_count": 3,
   "metadata": {
    "collapsed": false,
    "deletable": true,
    "editable": true
   },
   "outputs": [
    {
     "name": "stdout",
     "output_type": "stream",
     "text": [
      "{\n",
      "  \"prefix\": {\n",
      "    \"expo\": \"http://purl.translator.org/prov/expo\",\n",
      "    \"biochem\": \"http://purl.translator.org/prov/biochem\",\n",
      "    \"TODO\": \"http://purl.translator.org/prov/TODO\",\n",
      "    \"expo.pm25-o3\": \"http://purl.translator.org/prov/expo.pm25-o3\",\n",
      "    \"clinical.med.prescribed\": \"http://purl.translator.org/prov/clinical.med.prescribed\",\n",
      "    \"blazegraph\": \"http://purl.translator.org/prov/blazegraph\",\n",
      "    \"default\": \"http://purl.translator.org/prov/\"\n",
      "  },\n",
      "  \"activity\": {\n",
      "    \"execute_query\": {\n",
      "      \"prov:startTime\": \"2017-04-29T18:43:06\",\n",
      "      \"prov:endTime\": \"2017-04-29T18:43:06\",\n",
      "      \"TODO:id\": \"http://id.org/a931cdd9-091f-4bc2-a1b7-cd0331b6467a\"\n",
      "    },\n",
      "    \"blazegraph\": {\n",
      "      \"prov:startTime\": \"2017-04-29T18:43:06\",\n",
      "      \"prov:endTime\": \"2017-04-29T18:43:06\",\n",
      "      \"TODO:id\": \"http://id.org/a931cdd9-091f-4bc2-a1b7-cd0331b6467a\"\n",
      "    },\n",
      "    \"get_exposure_conditions\": {\n",
      "      \"prov:startTime\": \"2017-04-29T18:43:06\",\n",
      "      \"prov:endTime\": \"2017-04-29T18:43:06\"\n",
      "    }\n",
      "  },\n",
      "  \"entity\": {\n",
      "    \"TODO:schema\": [\n",
      "      {\n",
      "        \"prov:type\": \"execute_query\",\n",
      "        \"TODO:id\": \"http://id.org/a931cdd9-091f-4bc2-a1b7-cd0331b6467a\",\n",
      "        \"biochem:sparql\": \"execute_query(('prefix chemgene: <http://chem2bio2rdf.org/ctd/resource/ctd_chem_gene/>\\\\nprefix mesh:     <http://bio2rdf.org/mesh:>\\\\nprefix ctd:      <http://chem2bio2rdf.org/ctd/resource/>\\\\nprefix kegg:     <http://chem2bio2rdf.org/kegg/resource/>\\\\nprefix pharmgkb: <http://chem2bio2rdf.org/pharmgkb/resource/>\\\\n\\\\nselect ?chemical ?gene ?kegg_pathway ?pathway_name ?pathway_id where {\\\\n\\\\n   values ( ?chemical ) {\\\\n      ( mesh:D052638 )\\\\n   }\\\\n\\\\n   ?chemgene      ctd:chemicalid       ?chemical ;\\\\n                  ctd:interaction      ?interaction ;\\\\n                  ctd:interactiontypes ?interaction_types;\\\\n                  ctd:gene             ?gene .\\\\n \\\\n   ?pharmgkb_gene pharmgkb:Symbol      ?gene ;\\\\n                  pharmgkb:UniProt_Id  ?uniprotid .\\\\n   \\\\n   ?kegg_pathway  kegg:protein         ?uniprotid ;\\\\n                  kegg:Pathway_name    ?pathway_name ;\\\\n                  kegg:description     ?pathway_descr ;\\\\n                  kegg:pathwayid       ?pathway_id ;\\\\n                  kegg:ID              ?pathway_nid .\\\\n}',){})\"\n",
      "      },\n",
      "      {\n",
      "        \"prov:type\": \"get_exposure_conditions\",\n",
      "        \"biochem:exposures\": \"get_exposure_conditions((){'chemicals': ['D052638']})\"\n",
      "      }\n",
      "    ],\n",
      "    \"data\": [\n",
      "      {\n",
      "        \"prov:type\": \"biochem:data\",\n",
      "        \"TODO:id\": \"http://id.org/a931cdd9-091f-4bc2-a1b7-cd0331b6467a\",\n",
      "        \"src\": \"<http://bio2rdf.org/mesh:>\"\n",
      "      },\n",
      "      {\n",
      "        \"prov:type\": \"biochem:data\",\n",
      "        \"TODO:id\": \"http://id.org/a931cdd9-091f-4bc2-a1b7-cd0331b6467a\",\n",
      "        \"src\": \"<http://chem2bio2rdf.org/kegg/resource/>\"\n",
      "      },\n",
      "      {\n",
      "        \"prov:type\": \"biochem:data\",\n",
      "        \"TODO:id\": \"http://id.org/a931cdd9-091f-4bc2-a1b7-cd0331b6467a\",\n",
      "        \"src\": \"<http://chem2bio2rdf.org/pharmgkb/resource/>\"\n",
      "      },\n",
      "      {\n",
      "        \"prov:type\": \"biochem:data\",\n",
      "        \"TODO:id\": \"http://id.org/a931cdd9-091f-4bc2-a1b7-cd0331b6467a\",\n",
      "        \"src\": \"c2b2r.ctd\"\n",
      "      }\n",
      "    ],\n",
      "    \"biochem\": [\n",
      "      {\n",
      "        \"prov:type\": \"biochem\",\n",
      "        \"src\": \"biochem\",\n",
      "        \"TODO:id\": \"http://id.org/a931cdd9-091f-4bc2-a1b7-cd0331b6467a\"\n",
      "      },\n",
      "      {\n",
      "        \"prov:type\": \"biochem\",\n",
      "        \"src\": \"biochem\"\n",
      "      }\n",
      "    ]\n",
      "  }\n",
      "}\n"
     ]
    }
   ],
   "source": [
    "print (query.prov_json ())"
   ]
  },
  {
   "cell_type": "code",
   "execution_count": null,
   "metadata": {
    "collapsed": true
   },
   "outputs": [],
   "source": []
  }
 ],
 "metadata": {
  "kernelspec": {
   "display_name": "Python 3",
   "language": "python",
   "name": "python3"
  },
  "language_info": {
   "codemirror_mode": {
    "name": "ipython",
    "version": 3
   },
   "file_extension": ".py",
   "mimetype": "text/x-python",
   "name": "python",
   "nbconvert_exporter": "python",
   "pygments_lexer": "ipython3",
   "version": "3.6.0"
  }
 },
 "nbformat": 4,
 "nbformat_minor": 2
}
