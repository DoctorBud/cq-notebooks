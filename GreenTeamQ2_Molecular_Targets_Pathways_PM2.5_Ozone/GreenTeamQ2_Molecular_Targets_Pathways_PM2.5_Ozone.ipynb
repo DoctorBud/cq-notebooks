{
 "cells": [
  {
   "cell_type": "code",
   "execution_count": 1,
   "metadata": {
    "collapsed": true
   },
   "outputs": [],
   "source": [
    "# Import Green Translator API\n",
    "import pprint\n",
    "from greentranslator.api import GreenTranslator\n",
    "green = GreenTranslator ()"
   ]
  },
  {
   "cell_type": "code",
   "execution_count": 3,
   "metadata": {
    "collapsed": false
   },
   "outputs": [
    {
     "name": "stdout",
     "output_type": "stream",
     "text": [
      "[{'chemical': 'http://bio2rdf.org/mesh:D052638',\n",
      "  'gene': 'http://chem2bio2rdf.org/uniprot/resource/gene/NCF1',\n",
      "  'human': True,\n",
      "  'pathID': 'hsa04062',\n",
      "  'pathName': 'path:hsa04062 Chemokine signaling pathway - Homo sapiens '\n",
      "              '(human)',\n",
      "  'pathway': 'http://chem2bio2rdf.org/kegg/resource/kegg_pathway/hsa04062'},\n",
      " {'chemical': 'http://bio2rdf.org/mesh:D052638',\n",
      "  'gene': 'http://chem2bio2rdf.org/uniprot/resource/gene/NCF1',\n",
      "  'human': True,\n",
      "  'pathID': 'hsa04062',\n",
      "  'pathName': 'path:hsa04062 Chemokine signaling pathway - Homo sapiens '\n",
      "              '(human)',\n",
      "  'pathway': 'http://chem2bio2rdf.org/kegg/resource/kegg_pathway/hsa04062'}]\n"
     ]
    }
   ],
   "source": [
    "pm_targets = green.medbiochem.get_exposure_conditions (chemicals = [ 'D052638' ])\n",
    "pprint.pprint (pm_targets[:2])"
   ]
  },
  {
   "cell_type": "code",
   "execution_count": null,
   "metadata": {
    "collapsed": true
   },
   "outputs": [],
   "source": []
  }
 ],
 "metadata": {
  "kernelspec": {
   "display_name": "Python 3",
   "language": "python",
   "name": "python3"
  },
  "language_info": {
   "codemirror_mode": {
    "name": "ipython",
    "version": 3
   },
   "file_extension": ".py",
   "mimetype": "text/x-python",
   "name": "python",
   "nbconvert_exporter": "python",
   "pygments_lexer": "ipython3",
   "version": "3.6.0"
  }
 },
 "nbformat": 4,
 "nbformat_minor": 2
}
