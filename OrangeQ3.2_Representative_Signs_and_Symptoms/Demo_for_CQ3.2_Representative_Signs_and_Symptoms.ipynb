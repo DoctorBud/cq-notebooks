{
 "cells": [
  {
   "cell_type": "markdown",
   "metadata": {},
   "source": [
    "**Step 1: Find all patients with condition X from three sources**\n",
    "\n",
    "**Required**\n",
    "* Connect to FHIR Synthetic Patient Data\n",
    "* Connect to OHDSI Synthetic Patient Data\n",
    "* Connect to HUSH+ Synthetic Patient Data\n",
    "\n",
    "**Step 1.1: Find "
   ]
  },
  {
   "cell_type": "code",
   "execution_count": 2,
   "metadata": {},
   "outputs": [
    {
     "name": "stdout",
     "output_type": "stream",
     "text": [
      "\n"
     ]
    }
   ],
   "source": [
    "#connect to UMLS\n",
    "import mysql.connector\n",
    "import pprint\n",
    "\n",
    "try:\n",
    "  cnx = mysql.connector.connect(user='tadmin',\n",
    "                                password='ncats_translator!',\n",
    "                                database='umls',\n",
    "                                host='translator.ceyknq0yekb3.us-east-1.rds.amazonaws.com')\n",
    "except mysql.connector.Error as err:\n",
    "  if err.errno == errorcode.ER_ACCESS_DENIED_ERROR:\n",
    "    print(\"Something is wrong with your user name or password\")\n",
    "  elif err.errno == errorcode.ER_BAD_DB_ERROR:\n",
    "    print(\"Database does not exist\")\n",
    "  else:\n",
    "    print(err)\n",
    "else:\n",
    "  print\n",
    "  #cnx.close()"
   ]
  },
  {
   "cell_type": "code",
   "execution_count": 3,
   "metadata": {
    "collapsed": true
   },
   "outputs": [],
   "source": [
    "#Define functions\n",
    "def findMeshAndICD10(name):\n",
    "    cursor = cnx.cursor()\n",
    "    query = (\"SELECT CUI FROM umls.MRCONSO WHERE STR='\"+name+\"'\")\n",
    "    cursor.execute(query, ())\n",
    "    res = \"Undef\"\n",
    "    for code in cursor:\n",
    "        if res==\"Undef\":\n",
    "            res = code\n",
    "    if res != \"Undef\":\n",
    "        query = (\"SELECT CODE FROM umls.MRCONSO WHERE SAB='MSH' AND CUI='\"+res[0]+\"'\")\n",
    "        cursor.execute(query, ())\n",
    "        msh = \"Undef\"\n",
    "        for code in cursor:\n",
    "            msh = code\n",
    "        query = (\"SELECT CODE FROM umls.MRCONSO WHERE SAB='ICD10' AND CUI='\"+res[0]+\"'\")\n",
    "        cursor.execute(query, ())\n",
    "        icd10 = \"Undef\"\n",
    "        for code in cursor:\n",
    "            icd10 = code\n",
    "        query = (\"SELECT CODE FROM umls.MRCONSO WHERE SAB='ICD10CM' AND CUI='\"+res[0]+\"'\")\n",
    "        cursor.execute(query, ())\n",
    "        for code in cursor:\n",
    "            icd10 = code\n",
    "        return (msh[0],icd10[0])\n",
    "    return (\"Undef\",\"Undef\") \n"
   ]
  },
  {
   "cell_type": "code",
   "execution_count": 4,
   "metadata": {},
   "outputs": [
    {
     "data": {
      "text/plain": [
       "(u'D001249', u'J45.90')"
      ]
     },
     "execution_count": 4,
     "metadata": {},
     "output_type": "execute_result"
    }
   ],
   "source": [
    "findMeshAndICD10('Asthma')"
   ]
  },
  {
   "cell_type": "code",
   "execution_count": null,
   "metadata": {},
   "outputs": [],
   "source": [
    "## FHIR patient data\n",
    "import requests\n",
    "base_url = 'http://ictrweb.johnshopkins.edu/rest/synthetic'\n",
    "patients = base_url+\"/Patient\"+\"?_count=50\"\n",
    "\n",
    "req = requests.get(patients)"
   ]
  },
  {
   "cell_type": "code",
   "execution_count": 6,
   "metadata": {},
   "outputs": [
    {
     "ename": "NameError",
     "evalue": "name 'pprint' is not defined",
     "output_type": "error",
     "traceback": [
      "\u001b[0;31m\u001b[0m",
      "\u001b[0;31mNameError\u001b[0mTraceback (most recent call last)",
      "\u001b[0;32m<ipython-input-6-f8dd2ea0b7db>\u001b[0m in \u001b[0;36m<module>\u001b[0;34m()\u001b[0m\n\u001b[1;32m      7\u001b[0m patients = query.clinical_get_patients (age='8', sex='male', \n\u001b[1;32m      8\u001b[0m                                         race='white', location='OUTPATIENT')\n\u001b[0;32m----> 9\u001b[0;31m \u001b[0mpprint\u001b[0m\u001b[0;34m.\u001b[0m\u001b[0mpprint\u001b[0m \u001b[0;34m(\u001b[0m\u001b[0mpatients\u001b[0m\u001b[0;34m)\u001b[0m\u001b[0;34m\u001b[0m\u001b[0m\n\u001b[0m",
      "\u001b[0;31mNameError\u001b[0m: name 'pprint' is not defined"
     ]
    }
   ],
   "source": [
    "## Pull patients matching a list of ICD codes\n",
    "from datetime import datetime, timedelta\n",
    "from dateutil.parser import parse as parse_date\n",
    "from greentranslator.api import GreenTranslator\n",
    "query = GreenTranslator ().get_query ()\n",
    "\n",
    "patients = query.clinical_get_patients (age='8', sex='male', \n",
    "                                        race='white', location='OUTPATIENT')\n",
    "pprint.pprint (patients)"
   ]
  },
  {
   "cell_type": "code",
   "execution_count": null,
   "metadata": {
    "collapsed": true
   },
   "outputs": [],
   "source": [
    "meds = {}\n",
    "for x in patients:\n",
    "    medList = x['medList']\n",
    "    # Collect the unique meds\n",
    "    for m in medList.keys():\n",
    "        found = False\n",
    "        try:\n",
    "            meds[medList[m]] = meds[medList[m]]+1\n",
    "        except KeyError:\n",
    "            meds[medList[m]] = 1\n",
    "pprint.pprint(meds)"
   ]
  }
 ],
 "metadata": {
  "kernelspec": {
   "display_name": "Python 2",
   "language": "python",
   "name": "python2"
  }
 },
 "nbformat": 4,
 "nbformat_minor": 2
}
