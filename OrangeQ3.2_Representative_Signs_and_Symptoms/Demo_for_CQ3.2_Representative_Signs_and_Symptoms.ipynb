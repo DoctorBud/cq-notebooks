{
 "cells": [
  {
   "cell_type": "markdown",
   "metadata": {},
   "source": [
    "**Step 1: Find all patients with condition X from three sources**\n",
    "\n",
    "**Required**\n",
    "* Connect to FHIR Synthetic Patient Data\n",
    "* Connect to OHDSI Synthetic Patient Data\n",
    "* Connect to HUSH+ Synthetic Patient Data\n",
    "\n",
    "**Step 1.1: Find "
   ]
  },
  {
   "cell_type": "code",
   "execution_count": 1,
   "metadata": {
    "collapsed": false
   },
   "outputs": [
    {
     "name": "stdout",
     "output_type": "stream",
     "text": [
      "\n"
     ]
    }
   ],
   "source": [
    "#connect to UMLS\n",
    "import mysql.connector\n",
    "\n",
    "try:\n",
    "  cnx = mysql.connector.connect(user='tadmin',\n",
    "                                password='ncats_translator!',\n",
    "                                database='umls',\n",
    "                                host='translator.ceyknq0yekb3.us-east-1.rds.amazonaws.com')\n",
    "except mysql.connector.Error as err:\n",
    "  if err.errno == errorcode.ER_ACCESS_DENIED_ERROR:\n",
    "    print(\"Something is wrong with your user name or password\")\n",
    "  elif err.errno == errorcode.ER_BAD_DB_ERROR:\n",
    "    print(\"Database does not exist\")\n",
    "  else:\n",
    "    print(err)\n",
    "else:\n",
    "  print\n",
    "  #cnx.close()"
   ]
  },
  {
   "cell_type": "code",
   "execution_count": 2,
   "metadata": {
    "collapsed": true
   },
   "outputs": [],
   "source": [
    "#Define functions\n",
    "def findMeshAndICD10(name):\n",
    "    cursor = cnx.cursor()\n",
    "    query = (\"SELECT CUI FROM umls.MRCONSO WHERE STR='\"+name+\"'\")\n",
    "    cursor.execute(query, ())\n",
    "    res = \"Undef\"\n",
    "    for code in cursor:\n",
    "        if res==\"Undef\":\n",
    "            res = code\n",
    "    if res != \"Undef\":\n",
    "        query = (\"SELECT CODE FROM umls.MRCONSO WHERE SAB='MSH' AND CUI='\"+res[0]+\"'\")\n",
    "        cursor.execute(query, ())\n",
    "        msh = \"Undef\"\n",
    "        for code in cursor:\n",
    "            msh = code\n",
    "        query = (\"SELECT CODE FROM umls.MRCONSO WHERE SAB='ICD10' AND CUI='\"+res[0]+\"'\")\n",
    "        cursor.execute(query, ())\n",
    "        icd10 = \"Undef\"\n",
    "        for code in cursor:\n",
    "            icd10 = code\n",
    "        query = (\"SELECT CODE FROM umls.MRCONSO WHERE SAB='ICD10CM' AND CUI='\"+res[0]+\"'\")\n",
    "        cursor.execute(query, ())\n",
    "        for code in cursor:\n",
    "            icd10 = code\n",
    "        return (msh[0],icd10[0])\n",
    "    return (\"Undef\",\"Undef\") \n"
   ]
  },
  {
   "cell_type": "code",
   "execution_count": 4,
   "metadata": {
    "collapsed": false
   },
   "outputs": [
    {
     "data": {
      "text/plain": [
       "(u'D001249', u'J45.90')"
      ]
     },
     "execution_count": 4,
     "metadata": {},
     "output_type": "execute_result"
    }
   ],
   "source": [
    "findMeshAndICD10('Asthma')"
   ]
  },
  {
   "cell_type": "code",
   "execution_count": null,
   "metadata": {
    "collapsed": true
   },
   "outputs": [],
   "source": []
  }
 ],
 "metadata": {
  "kernelspec": {
   "display_name": "Python 2",
   "language": "python",
   "name": "python2"
  },
  "language_info": {
   "codemirror_mode": {
    "name": "ipython",
    "version": 2
   },
   "file_extension": ".py",
   "mimetype": "text/x-python",
   "name": "python",
   "nbconvert_exporter": "python",
   "pygments_lexer": "ipython2",
   "version": "2.7.13"
  }
 },
 "nbformat": 4,
 "nbformat_minor": 2
}
