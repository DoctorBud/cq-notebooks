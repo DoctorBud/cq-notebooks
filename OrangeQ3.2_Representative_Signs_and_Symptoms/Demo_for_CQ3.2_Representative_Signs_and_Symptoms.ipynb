{
 "cells": [
  {
   "cell_type": "markdown",
   "metadata": {},
   "source": [
    "**Step 1: Find all patients with condition X from three sources**\n",
    "\n",
    "**Required**\n",
    "* Connect to FHIR Synthetic Patient Data\n",
    "* Connect to OHDSI Synthetic Patient Data\n",
    "* Connect to HUSH+ Synthetic Patient Data"
   ]
  },
  {
   "cell_type": "code",
   "execution_count": null,
   "metadata": {
    "collapsed": true
   },
   "outputs": [],
   "source": []
  }
 ],
 "metadata": {
  "kernelspec": {
   "display_name": "Python 2",
   "language": "python",
   "name": "python2"
  },
  "language_info": {
   "codemirror_mode": {
    "name": "ipython",
    "version": 2
   },
   "file_extension": ".py",
   "mimetype": "text/x-python",
   "name": "python",
   "nbconvert_exporter": "python",
   "pygments_lexer": "ipython2",
   "version": "2.7.11"
  }
 },
 "nbformat": 4,
 "nbformat_minor": 2
}
